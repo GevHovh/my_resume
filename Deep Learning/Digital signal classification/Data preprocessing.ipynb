{
 "cells": [
  {
   "cell_type": "markdown",
   "metadata": {},
   "source": [
    "# The preprocesing file of the assignment project"
   ]
  },
  {
   "cell_type": "markdown",
   "metadata": {},
   "source": [
    "Since the main goal of this project isn't the final results, I will make toy dataset with small number of files. <br> \n",
    "For more convenience I'll take files with most common labels to avoid the situation, where there is only one example with certain label.. <br>\n",
    "The problem with different durations I decided to solve like below:<br>\n",
    "&#8226; First I'll calculate the durations of all audio files, and then pick some threshold(~mean value).<br>\n",
    "&#8226; All the files that have durations less than the threshold I'll double until they reach the threshold.<br>\n",
    "&#8226; Then I'll cut the whole audio file into equal segments and make mel-spectograms from them. <br> <br>\n",
    "<b>P.S. Apparently by doing that I will miss some information from files with longer duration, but as I noticed most of the longer files just repetition of same particular sound so I assume that, that sound is occurred in the first seconds as well.<b>"
   ]
  },
  {
   "cell_type": "markdown",
   "metadata": {},
   "source": [
    "## Notebook map\n",
    "\n",
    "&#8226; Extract the most common labels and make toy dataset<br> \n",
    "&#8226; Label encoder <br>\n",
    "&#8226; Find 'mean' threshold of dataset and adjust durations to that <br> \n",
    "&#8226; Make segments from waverows <br>\n",
    "&#8226; Make spectograms from segments"
   ]
  },
  {
   "cell_type": "code",
   "execution_count": 1,
   "metadata": {},
   "outputs": [],
   "source": [
    "import librosa\n",
    "import os\n",
    "import librosa.display\n",
    "import matplotlib.pyplot as plt\n",
    "import numpy as np\n",
    "import IPython.display as ipd\n",
    "import pandas as pd\n",
    "from tqdm import tqdm\n",
    "import librosa.feature\n",
    "import seaborn as sns\n",
    "from sklearn.preprocessing import LabelEncoder"
   ]
  },
  {
   "cell_type": "code",
   "execution_count": 2,
   "metadata": {},
   "outputs": [],
   "source": [
    "def extract_waverow(filename, folder='train_curated'):\n",
    "    \"\"\" Extract waverow from audio file \"\"\"\n",
    "    path = os.path.join(folder, filename)\n",
    "    y, _  = librosa.load(path)\n",
    "    return y\n",
    "\n",
    "\n",
    "def calculate_duration(y, sr=22050):\n",
    "    \"\"\" Calculate the duration of waverow in seconds \"\"\"\n",
    "    return len(y) / sr\n",
    "\n",
    "\n",
    "def adjust_duration(y, threshold=10, sr=22050): \n",
    "    \"\"\"\n",
    "    If duration is less than threshold doubles\n",
    "    until it reaches theshold\n",
    "    \"\"\"\n",
    "    duration = len(y) / sr\n",
    "    new_duration = 0.\n",
    "    times = 0\n",
    "    \n",
    "    while new_duration<threshold:\n",
    "        new_duration = new_duration + duration\n",
    "        times+=1\n",
    "    \n",
    "    return np.resize(y, int(times)*y.shape[0])\n",
    "\n",
    "\n",
    "def extract_segments(adjusted_y, num_segments=7, hop_length=1*22050, frame_length=3*22050):\n",
    "    \"\"\"\n",
    "    Split waverow to 7 segments with hop lenght = 1 sec\n",
    "    and duration of segment = 3 secs\n",
    "    \"\"\"\n",
    "    segments = []\n",
    "    \n",
    "    for i in range(0, num_segments):\n",
    "        start = int(i*hop_length)\n",
    "        end = start + frame_length\n",
    "        segment = adjusted_y[start:end]\n",
    "        segments.append(segment)\n",
    "    \n",
    "    return np.array(segments)\n",
    "\n",
    "\n",
    "def extract_spectogram(segments):\n",
    "    \"\"\" Build mel-spectograms for given list of segmnets \"\"\"\n",
    "    spectograms = []\n",
    "    \n",
    "    for segment in segments:\n",
    "        mel_spec = librosa.feature.melspectrogram(segment, n_fft=2048, hop_length=512, \n",
    "                                                n_mels=96, sr=22050)\n",
    "        D =librosa.power_to_db(mel_spec, ref=np.max)\n",
    "        spectograms.append(D)\n",
    "        \n",
    "    return np.array(spectograms)"
   ]
  },
  {
   "cell_type": "markdown",
   "metadata": {},
   "source": [
    "## Toy dataset and encoder"
   ]
  },
  {
   "cell_type": "code",
   "execution_count": 3,
   "metadata": {},
   "outputs": [],
   "source": [
    "frame = pd.read_csv('train_curated.csv') # Csv with file names and labels\n",
    "\n",
    "# Extracting list of most common labesl\n",
    "common_labels = frame['labels'].value_counts()[:10].index.to_list()\n",
    "\n",
    "condition = ((frame['labels']==common_labels[0]) |\n",
    "             (frame['labels']==common_labels[1]) |\n",
    "             (frame['labels']==common_labels[2]) |\n",
    "             (frame['labels']==common_labels[3]) |\n",
    "             (frame['labels']==common_labels[4]) |\n",
    "             (frame['labels']==common_labels[5]) |\n",
    "             (frame['labels']==common_labels[6]) |\n",
    "             (frame['labels']==common_labels[7]) |\n",
    "             (frame['labels']==common_labels[8]) |\n",
    "             (frame['labels']==common_labels[9]))\n",
    "\n",
    "frame = frame.loc[condition]"
   ]
  },
  {
   "cell_type": "code",
   "execution_count": 4,
   "metadata": {},
   "outputs": [
    {
     "data": {
      "text/html": [
       "<div>\n",
       "<style scoped>\n",
       "    .dataframe tbody tr th:only-of-type {\n",
       "        vertical-align: middle;\n",
       "    }\n",
       "\n",
       "    .dataframe tbody tr th {\n",
       "        vertical-align: top;\n",
       "    }\n",
       "\n",
       "    .dataframe thead th {\n",
       "        text-align: right;\n",
       "    }\n",
       "</style>\n",
       "<table border=\"1\" class=\"dataframe\">\n",
       "  <thead>\n",
       "    <tr style=\"text-align: right;\">\n",
       "      <th></th>\n",
       "      <th>labels</th>\n",
       "    </tr>\n",
       "  </thead>\n",
       "  <tbody>\n",
       "    <tr>\n",
       "      <th>9</th>\n",
       "      <td>75</td>\n",
       "    </tr>\n",
       "    <tr>\n",
       "      <th>8</th>\n",
       "      <td>75</td>\n",
       "    </tr>\n",
       "    <tr>\n",
       "      <th>7</th>\n",
       "      <td>75</td>\n",
       "    </tr>\n",
       "    <tr>\n",
       "      <th>6</th>\n",
       "      <td>75</td>\n",
       "    </tr>\n",
       "    <tr>\n",
       "      <th>5</th>\n",
       "      <td>75</td>\n",
       "    </tr>\n",
       "    <tr>\n",
       "      <th>4</th>\n",
       "      <td>75</td>\n",
       "    </tr>\n",
       "    <tr>\n",
       "      <th>3</th>\n",
       "      <td>75</td>\n",
       "    </tr>\n",
       "    <tr>\n",
       "      <th>2</th>\n",
       "      <td>75</td>\n",
       "    </tr>\n",
       "    <tr>\n",
       "      <th>1</th>\n",
       "      <td>75</td>\n",
       "    </tr>\n",
       "    <tr>\n",
       "      <th>0</th>\n",
       "      <td>74</td>\n",
       "    </tr>\n",
       "  </tbody>\n",
       "</table>\n",
       "</div>"
      ],
      "text/plain": [
       "   labels\n",
       "9      75\n",
       "8      75\n",
       "7      75\n",
       "6      75\n",
       "5      75\n",
       "4      75\n",
       "3      75\n",
       "2      75\n",
       "1      75\n",
       "0      74"
      ]
     },
     "execution_count": 4,
     "metadata": {},
     "output_type": "execute_result"
    }
   ],
   "source": [
    "## Label encoder\n",
    "encoder = LabelEncoder()\n",
    "encoded = encoder.fit_transform(frame['labels'])\n",
    "frame['labels'] = encoded\n",
    "\n",
    "# For the sake of convenience\n",
    "frame = frame.reset_index(drop=True)\n",
    "\n",
    "frame['labels'].value_counts().to_frame()"
   ]
  },
  {
   "cell_type": "markdown",
   "metadata": {},
   "source": [
    "## Adjust durations"
   ]
  },
  {
   "cell_type": "code",
   "execution_count": 5,
   "metadata": {},
   "outputs": [
    {
     "data": {
      "text/html": [
       "<div>\n",
       "<style scoped>\n",
       "    .dataframe tbody tr th:only-of-type {\n",
       "        vertical-align: middle;\n",
       "    }\n",
       "\n",
       "    .dataframe tbody tr th {\n",
       "        vertical-align: top;\n",
       "    }\n",
       "\n",
       "    .dataframe thead th {\n",
       "        text-align: right;\n",
       "    }\n",
       "</style>\n",
       "<table border=\"1\" class=\"dataframe\">\n",
       "  <thead>\n",
       "    <tr style=\"text-align: right;\">\n",
       "      <th></th>\n",
       "      <th>fname</th>\n",
       "      <th>labels</th>\n",
       "    </tr>\n",
       "  </thead>\n",
       "  <tbody>\n",
       "    <tr>\n",
       "      <th>0</th>\n",
       "      <td>001ec0ad.wav</td>\n",
       "      <td>2</td>\n",
       "    </tr>\n",
       "    <tr>\n",
       "      <th>1</th>\n",
       "      <td>0026f116.wav</td>\n",
       "      <td>2</td>\n",
       "    </tr>\n",
       "    <tr>\n",
       "      <th>2</th>\n",
       "      <td>009ca29f.wav</td>\n",
       "      <td>0</td>\n",
       "    </tr>\n",
       "    <tr>\n",
       "      <th>3</th>\n",
       "      <td>00c91dfc.wav</td>\n",
       "      <td>0</td>\n",
       "    </tr>\n",
       "    <tr>\n",
       "      <th>4</th>\n",
       "      <td>0217540b.wav</td>\n",
       "      <td>9</td>\n",
       "    </tr>\n",
       "  </tbody>\n",
       "</table>\n",
       "</div>"
      ],
      "text/plain": [
       "          fname  labels\n",
       "0  001ec0ad.wav       2\n",
       "1  0026f116.wav       2\n",
       "2  009ca29f.wav       0\n",
       "3  00c91dfc.wav       0\n",
       "4  0217540b.wav       9"
      ]
     },
     "execution_count": 5,
     "metadata": {},
     "output_type": "execute_result"
    }
   ],
   "source": [
    "# View\n",
    "frame.head()"
   ]
  },
  {
   "cell_type": "code",
   "execution_count": 6,
   "metadata": {},
   "outputs": [
    {
     "data": {
      "text/html": [
       "<div>\n",
       "<style scoped>\n",
       "    .dataframe tbody tr th:only-of-type {\n",
       "        vertical-align: middle;\n",
       "    }\n",
       "\n",
       "    .dataframe tbody tr th {\n",
       "        vertical-align: top;\n",
       "    }\n",
       "\n",
       "    .dataframe thead th {\n",
       "        text-align: right;\n",
       "    }\n",
       "</style>\n",
       "<table border=\"1\" class=\"dataframe\">\n",
       "  <thead>\n",
       "    <tr style=\"text-align: right;\">\n",
       "      <th></th>\n",
       "      <th>duration</th>\n",
       "    </tr>\n",
       "  </thead>\n",
       "  <tbody>\n",
       "    <tr>\n",
       "      <th>count</th>\n",
       "      <td>749.000000</td>\n",
       "    </tr>\n",
       "    <tr>\n",
       "      <th>mean</th>\n",
       "      <td>7.241677</td>\n",
       "    </tr>\n",
       "    <tr>\n",
       "      <th>std</th>\n",
       "      <td>7.848933</td>\n",
       "    </tr>\n",
       "    <tr>\n",
       "      <th>min</th>\n",
       "      <td>0.300000</td>\n",
       "    </tr>\n",
       "    <tr>\n",
       "      <th>25%</th>\n",
       "      <td>1.207438</td>\n",
       "    </tr>\n",
       "    <tr>\n",
       "      <th>50%</th>\n",
       "      <td>3.703583</td>\n",
       "    </tr>\n",
       "    <tr>\n",
       "      <th>75%</th>\n",
       "      <td>10.871202</td>\n",
       "    </tr>\n",
       "    <tr>\n",
       "      <th>max</th>\n",
       "      <td>29.895147</td>\n",
       "    </tr>\n",
       "  </tbody>\n",
       "</table>\n",
       "</div>"
      ],
      "text/plain": [
       "         duration\n",
       "count  749.000000\n",
       "mean     7.241677\n",
       "std      7.848933\n",
       "min      0.300000\n",
       "25%      1.207438\n",
       "50%      3.703583\n",
       "75%     10.871202\n",
       "max     29.895147"
      ]
     },
     "execution_count": 6,
     "metadata": {},
     "output_type": "execute_result"
    }
   ],
   "source": [
    "frame['y'] = frame['fname'].apply(extract_waverow)\n",
    "\n",
    "frame['duration'] = frame['y'].apply(calculate_duration)\n",
    "\n",
    "frame['duration'].describe().to_frame()"
   ]
  },
  {
   "cell_type": "markdown",
   "metadata": {},
   "source": [
    "#### From there I have decided the threshold(10) and the number of segments(7)"
   ]
  },
  {
   "cell_type": "code",
   "execution_count": 7,
   "metadata": {},
   "outputs": [],
   "source": [
    "frame['adjusted_y'] = frame['y'].apply(adjust_duration)"
   ]
  },
  {
   "cell_type": "code",
   "execution_count": 8,
   "metadata": {},
   "outputs": [
    {
     "data": {
      "text/html": [
       "<div>\n",
       "<style scoped>\n",
       "    .dataframe tbody tr th:only-of-type {\n",
       "        vertical-align: middle;\n",
       "    }\n",
       "\n",
       "    .dataframe tbody tr th {\n",
       "        vertical-align: top;\n",
       "    }\n",
       "\n",
       "    .dataframe thead th {\n",
       "        text-align: right;\n",
       "    }\n",
       "</style>\n",
       "<table border=\"1\" class=\"dataframe\">\n",
       "  <thead>\n",
       "    <tr style=\"text-align: right;\">\n",
       "      <th></th>\n",
       "      <th>fname</th>\n",
       "      <th>labels</th>\n",
       "      <th>y</th>\n",
       "      <th>duration</th>\n",
       "      <th>adjusted_y</th>\n",
       "    </tr>\n",
       "  </thead>\n",
       "  <tbody>\n",
       "    <tr>\n",
       "      <th>0</th>\n",
       "      <td>001ec0ad.wav</td>\n",
       "      <td>2</td>\n",
       "      <td>[-0.0001602216, -0.0006380982, -0.0003406805, ...</td>\n",
       "      <td>1.518730</td>\n",
       "      <td>[-0.0001602216, -0.0006380982, -0.0003406805, ...</td>\n",
       "    </tr>\n",
       "    <tr>\n",
       "      <th>1</th>\n",
       "      <td>0026f116.wav</td>\n",
       "      <td>2</td>\n",
       "      <td>[0.0, 0.0, 0.0, 0.0, 0.0, 0.0, 0.0, 0.0, 0.0, ...</td>\n",
       "      <td>1.375011</td>\n",
       "      <td>[0.0, 0.0, 0.0, 0.0, 0.0, 0.0, 0.0, 0.0, 0.0, ...</td>\n",
       "    </tr>\n",
       "    <tr>\n",
       "      <th>2</th>\n",
       "      <td>009ca29f.wav</td>\n",
       "      <td>0</td>\n",
       "      <td>[-9.4822633e-07, 1.3251653e-06, -1.945937e-06,...</td>\n",
       "      <td>7.411973</td>\n",
       "      <td>[-9.4822633e-07, 1.3251653e-06, -1.945937e-06,...</td>\n",
       "    </tr>\n",
       "    <tr>\n",
       "      <th>3</th>\n",
       "      <td>00c91dfc.wav</td>\n",
       "      <td>0</td>\n",
       "      <td>[-0.0006966979, -0.00063006696, -0.0014202215,...</td>\n",
       "      <td>17.600726</td>\n",
       "      <td>[-0.0006966979, -0.00063006696, -0.0014202215,...</td>\n",
       "    </tr>\n",
       "    <tr>\n",
       "      <th>4</th>\n",
       "      <td>0217540b.wav</td>\n",
       "      <td>9</td>\n",
       "      <td>[-0.00032528912, -0.00048533728, -0.0003301644...</td>\n",
       "      <td>11.000000</td>\n",
       "      <td>[-0.00032528912, -0.00048533728, -0.0003301644...</td>\n",
       "    </tr>\n",
       "  </tbody>\n",
       "</table>\n",
       "</div>"
      ],
      "text/plain": [
       "          fname  labels                                                  y  \\\n",
       "0  001ec0ad.wav       2  [-0.0001602216, -0.0006380982, -0.0003406805, ...   \n",
       "1  0026f116.wav       2  [0.0, 0.0, 0.0, 0.0, 0.0, 0.0, 0.0, 0.0, 0.0, ...   \n",
       "2  009ca29f.wav       0  [-9.4822633e-07, 1.3251653e-06, -1.945937e-06,...   \n",
       "3  00c91dfc.wav       0  [-0.0006966979, -0.00063006696, -0.0014202215,...   \n",
       "4  0217540b.wav       9  [-0.00032528912, -0.00048533728, -0.0003301644...   \n",
       "\n",
       "    duration                                         adjusted_y  \n",
       "0   1.518730  [-0.0001602216, -0.0006380982, -0.0003406805, ...  \n",
       "1   1.375011  [0.0, 0.0, 0.0, 0.0, 0.0, 0.0, 0.0, 0.0, 0.0, ...  \n",
       "2   7.411973  [-9.4822633e-07, 1.3251653e-06, -1.945937e-06,...  \n",
       "3  17.600726  [-0.0006966979, -0.00063006696, -0.0014202215,...  \n",
       "4  11.000000  [-0.00032528912, -0.00048533728, -0.0003301644...  "
      ]
     },
     "execution_count": 8,
     "metadata": {},
     "output_type": "execute_result"
    }
   ],
   "source": [
    "frame.head()"
   ]
  },
  {
   "cell_type": "markdown",
   "metadata": {},
   "source": [
    "## Make segments and spectograms"
   ]
  },
  {
   "cell_type": "code",
   "execution_count": 9,
   "metadata": {},
   "outputs": [],
   "source": [
    "# Extracting segments from adjusted waverow\n",
    "frame['segments'] = frame['adjusted_y'].apply(extract_segments)\n",
    "\n",
    "# Making spectograms from segments\n",
    "frame['spectograms'] = frame['segments'].apply(extract_spectogram)"
   ]
  },
  {
   "cell_type": "markdown",
   "metadata": {},
   "source": [
    "## Final view"
   ]
  },
  {
   "cell_type": "code",
   "execution_count": 10,
   "metadata": {},
   "outputs": [],
   "source": [
    "final = frame[['spectograms', 'labels']]\n",
    "\n",
    "# splites list into rows in dataframe\n",
    "final = final.explode('spectograms')\n",
    "\n",
    "final = final.reset_index()\n",
    "final = final[['spectograms', 'labels']]"
   ]
  },
  {
   "cell_type": "code",
   "execution_count": 11,
   "metadata": {},
   "outputs": [
    {
     "data": {
      "text/html": [
       "<div>\n",
       "<style scoped>\n",
       "    .dataframe tbody tr th:only-of-type {\n",
       "        vertical-align: middle;\n",
       "    }\n",
       "\n",
       "    .dataframe tbody tr th {\n",
       "        vertical-align: top;\n",
       "    }\n",
       "\n",
       "    .dataframe thead th {\n",
       "        text-align: right;\n",
       "    }\n",
       "</style>\n",
       "<table border=\"1\" class=\"dataframe\">\n",
       "  <thead>\n",
       "    <tr style=\"text-align: right;\">\n",
       "      <th></th>\n",
       "      <th>spectograms</th>\n",
       "      <th>labels</th>\n",
       "    </tr>\n",
       "  </thead>\n",
       "  <tbody>\n",
       "    <tr>\n",
       "      <th>1672</th>\n",
       "      <td>[[-14.897877, -7.6572475, -8.362596, -15.10186...</td>\n",
       "      <td>4</td>\n",
       "    </tr>\n",
       "    <tr>\n",
       "      <th>1168</th>\n",
       "      <td>[[-24.485703, -24.746014, -29.43417, -28.21462...</td>\n",
       "      <td>3</td>\n",
       "    </tr>\n",
       "    <tr>\n",
       "      <th>1533</th>\n",
       "      <td>[[-11.7403965, -14.532724, -17.366661, -17.555...</td>\n",
       "      <td>9</td>\n",
       "    </tr>\n",
       "    <tr>\n",
       "      <th>147</th>\n",
       "      <td>[[-20.860886, -25.091, -26.894033, -25.69669, ...</td>\n",
       "      <td>0</td>\n",
       "    </tr>\n",
       "    <tr>\n",
       "      <th>4768</th>\n",
       "      <td>[[-15.835694, -16.360899, -12.992587, -9.14860...</td>\n",
       "      <td>1</td>\n",
       "    </tr>\n",
       "  </tbody>\n",
       "</table>\n",
       "</div>"
      ],
      "text/plain": [
       "                                            spectograms  labels\n",
       "1672  [[-14.897877, -7.6572475, -8.362596, -15.10186...       4\n",
       "1168  [[-24.485703, -24.746014, -29.43417, -28.21462...       3\n",
       "1533  [[-11.7403965, -14.532724, -17.366661, -17.555...       9\n",
       "147   [[-20.860886, -25.091, -26.894033, -25.69669, ...       0\n",
       "4768  [[-15.835694, -16.360899, -12.992587, -9.14860...       1"
      ]
     },
     "execution_count": 11,
     "metadata": {},
     "output_type": "execute_result"
    }
   ],
   "source": [
    "# Final view\n",
    "final.sample(5)"
   ]
  },
  {
   "cell_type": "code",
   "execution_count": 12,
   "metadata": {},
   "outputs": [
    {
     "name": "stdout",
     "output_type": "stream",
     "text": [
      "Final shape: (5243, 2)\n"
     ]
    }
   ],
   "source": [
    "print(f'Final shape: {final.shape}')"
   ]
  },
  {
   "cell_type": "code",
   "execution_count": 13,
   "metadata": {},
   "outputs": [
    {
     "data": {
      "image/png": "[encoded data removed]",
      "text/plain": [
       "<Figure size 864x576 with 2 Axes>"
      ]
     },
     "metadata": {
      "needs_background": "light"
     },
     "output_type": "display_data"
    }
   ],
   "source": [
    "# Cheking if everything is ok\n",
    "q = final.loc[999, 'spectograms']\n",
    "\n",
    "plt.figure(figsize=(12,8))\n",
    "\n",
    "spec = librosa.display.specshow(q, y_axis='mel', sr=22050, x_axis='time')\n",
    "title = 'Mel-spectogram shape:' + str(final.loc[0, 'spectograms'].shape)\n",
    "plt.title(title, fontsize=14)\n",
    "\n",
    "plt.colorbar()\n",
    "plt.show()"
   ]
  },
  {
   "cell_type": "markdown",
   "metadata": {},
   "source": [
    "#### Pandas\n",
    "If you wonder about why I used pandas frames, the answer is because I am not so experienced in signal processing, so I need more visual information to understand the whole process of preprocessing the data."
   ]
  },
  {
   "cell_type": "code",
   "execution_count": 14,
   "metadata": {},
   "outputs": [],
   "source": [
    "# Saving numpy array\n",
    "training_data = final.values\n",
    "#np.save('training_data.npy', training_data)"
   ]
  }
 ],
 "metadata": {
  "kernelspec": {
   "display_name": "Python 3",
   "language": "python",
   "name": "python3"
  },
  "language_info": {
   "codemirror_mode": {
    "name": "ipython",
    "version": 3
   },
   "file_extension": ".py",
   "mimetype": "text/x-python",
   "name": "python",
   "nbconvert_exporter": "python",
   "pygments_lexer": "ipython3",
   "version": "3.8.3"
  }
 },
 "nbformat": 4,
 "nbformat_minor": 4
}

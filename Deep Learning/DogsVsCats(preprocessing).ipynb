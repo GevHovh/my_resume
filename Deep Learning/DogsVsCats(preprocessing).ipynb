{
 "cells": [
  {
   "cell_type": "markdown",
   "metadata": {},
   "source": [
    "## Microsoft Dogs vs Cats Challenge\n",
    "#### This is the first part of my DogsVsCats project.<br>In this part I'll write simple code to convert image data into numpy arrays."
   ]
  },
  {
   "cell_type": "code",
   "execution_count": 1,
   "metadata": {},
   "outputs": [],
   "source": [
    "import os\n",
    "import cv2\n",
    "import torch\n",
    "import numpy as np\n",
    "from tqdm import tqdm"
   ]
  },
  {
   "cell_type": "code",
   "execution_count": 3,
   "metadata": {},
   "outputs": [
    {
     "name": "stderr",
     "output_type": "stream",
     "text": [
      "100%|████████████████████████████████████████████████████████████████████████████| 12501/12501 [02:42<00:00, 77.10it/s]\n",
      "100%|████████████████████████████████████████████████████████████████████████████| 12501/12501 [03:16<00:00, 63.74it/s]\n"
     ]
    }
   ],
   "source": [
    "REBUILD_DATA = True\n",
    "\n",
    "class DogsVsCats:\n",
    "    \n",
    "    IMG_SIZE = 50\n",
    "    CATS = 'PetImages\\Cat' # Cats folder dictionary\n",
    "    DOGS = 'PetImages\\Dog' # Dogs folder dictionary\n",
    "    LABELS = {CATS: 0, DOGS: 1}\n",
    "    \n",
    "    training_data   = []\n",
    "    \n",
    "    def make_training_data(self):\n",
    "        for label in self.LABELS:\n",
    "            for k in tqdm(os.listdir(label)):\n",
    "                    try:\n",
    "                        path = os.path.join(label,k)\n",
    "                        img = cv2.imread(path, cv2.IMREAD_GRAYSCALE)\n",
    "                        img = cv2.resize(img, (self.IMG_SIZE, self.IMG_SIZE))\n",
    "                        target = np.eye(2)[self.LABELS[label]]\n",
    "                        self.training_data.append([np.array(img), target])\n",
    "                                         \n",
    "                    except Exception as e:\n",
    "                        #There are some files with other than .jpg extensions\n",
    "                        pass\n",
    "\n",
    "        np.random.shuffle(self.training_data)\n",
    "        np.save('training_data.npy', self.training_data)\n",
    "    \n",
    "if REBUILD_DATA:\n",
    "        dogsvcats = DogsVsCats()\n",
    "        dogsvcats.make_training_data()\n",
    "                \n",
    "training_data = np.load(\"training_data.npy\", allow_pickle=True)"
   ]
  },
  {
   "cell_type": "markdown",
   "metadata": {},
   "source": [
    "#### I am converting data in Jupyter Notebook, because images are stored in my local computer.<br>And i am using Google Colab for training model, so I can train it on cloud GPU."
   ]
  }
 ],
 "metadata": {
  "kernelspec": {
   "display_name": "Python 3",
   "language": "python",
   "name": "python3"
  },
  "language_info": {
   "codemirror_mode": {
    "name": "ipython",
    "version": 3
   },
   "file_extension": ".py",
   "mimetype": "text/x-python",
   "name": "python",
   "nbconvert_exporter": "python",
   "pygments_lexer": "ipython3",
   "version": "3.8.3"
  }
 },
 "nbformat": 4,
 "nbformat_minor": 4
}

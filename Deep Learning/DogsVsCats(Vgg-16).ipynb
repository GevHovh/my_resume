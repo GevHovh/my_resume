{
  "nbformat": 4,
  "nbformat_minor": 0,
  "metadata": {
    "colab": {
      "name": "Vgg-19.ipynb",
      "provenance": [],
      "collapsed_sections": []
    },
    "kernelspec": {
      "name": "python3",
      "display_name": "Python 3"
    },
    "accelerator": "GPU",
    "widgets": {
      "application/vnd.jupyter.widget-state+json": {
        "a019f3e9a0e346d6b731129c9631c44d": {
          "model_module": "@jupyter-widgets/controls",
          "model_name": "HBoxModel",
          "state": {
            "_view_name": "HBoxView",
            "_dom_classes": [],
            "_model_name": "HBoxModel",
            "_view_module": "@jupyter-widgets/controls",
            "_model_module_version": "1.5.0",
            "_view_count": null,
            "_view_module_version": "1.5.0",
            "box_style": "",
            "layout": "IPY_MODEL_e6471574c6ae40428bfedf2dc2b95697",
            "_model_module": "@jupyter-widgets/controls",
            "children": [
              "IPY_MODEL_64b029d071354cb59328a1b685ba9246",
              "IPY_MODEL_3cb807264bd04600a96a3b9531dfc792"
            ]
          }
        },
        "e6471574c6ae40428bfedf2dc2b95697": {
          "model_module": "@jupyter-widgets/base",
          "model_name": "LayoutModel",
          "state": {
            "_view_name": "LayoutView",
            "grid_template_rows": null,
            "right": null,
            "justify_content": null,
            "_view_module": "@jupyter-widgets/base",
            "overflow": null,
            "_model_module_version": "1.2.0",
            "_view_count": null,
            "flex_flow": null,
            "width": null,
            "min_width": null,
            "border": null,
            "align_items": null,
            "bottom": null,
            "_model_module": "@jupyter-widgets/base",
            "top": null,
            "grid_column": null,
            "overflow_y": null,
            "overflow_x": null,
            "grid_auto_flow": null,
            "grid_area": null,
            "grid_template_columns": null,
            "flex": null,
            "_model_name": "LayoutModel",
            "justify_items": null,
            "grid_row": null,
            "max_height": null,
            "align_content": null,
            "visibility": null,
            "align_self": null,
            "height": null,
            "min_height": null,
            "padding": null,
            "grid_auto_rows": null,
            "grid_gap": null,
            "max_width": null,
            "order": null,
            "_view_module_version": "1.2.0",
            "grid_template_areas": null,
            "object_position": null,
            "object_fit": null,
            "grid_auto_columns": null,
            "margin": null,
            "display": null,
            "left": null
          }
        },
        "64b029d071354cb59328a1b685ba9246": {
          "model_module": "@jupyter-widgets/controls",
          "model_name": "FloatProgressModel",
          "state": {
            "_view_name": "ProgressView",
            "style": "IPY_MODEL_881ca045636f40caa47c4f3449a0867b",
            "_dom_classes": [],
            "description": "100%",
            "_model_name": "FloatProgressModel",
            "bar_style": "success",
            "max": 1,
            "_view_module": "@jupyter-widgets/controls",
            "_model_module_version": "1.5.0",
            "value": 1,
            "_view_count": null,
            "_view_module_version": "1.5.0",
            "orientation": "horizontal",
            "min": 0,
            "description_tooltip": null,
            "_model_module": "@jupyter-widgets/controls",
            "layout": "IPY_MODEL_b97fa7282bdc4c849ec5e4a2a0b22b00"
          }
        },
        "3cb807264bd04600a96a3b9531dfc792": {
          "model_module": "@jupyter-widgets/controls",
          "model_name": "HTMLModel",
          "state": {
            "_view_name": "HTMLView",
            "style": "IPY_MODEL_c3be437b67c54c40a44e077901918360",
            "_dom_classes": [],
            "description": "",
            "_model_name": "HTMLModel",
            "placeholder": "​",
            "_view_module": "@jupyter-widgets/controls",
            "_model_module_version": "1.5.0",
            "value": " 1/1 [07:15&lt;00:00, 435.30s/it]",
            "_view_count": null,
            "_view_module_version": "1.5.0",
            "description_tooltip": null,
            "_model_module": "@jupyter-widgets/controls",
            "layout": "IPY_MODEL_254315b033b54e45bfdf7ca815d0df16"
          }
        },
        "881ca045636f40caa47c4f3449a0867b": {
          "model_module": "@jupyter-widgets/controls",
          "model_name": "ProgressStyleModel",
          "state": {
            "_view_name": "StyleView",
            "_model_name": "ProgressStyleModel",
            "description_width": "initial",
            "_view_module": "@jupyter-widgets/base",
            "_model_module_version": "1.5.0",
            "_view_count": null,
            "_view_module_version": "1.2.0",
            "bar_color": null,
            "_model_module": "@jupyter-widgets/controls"
          }
        },
        "b97fa7282bdc4c849ec5e4a2a0b22b00": {
          "model_module": "@jupyter-widgets/base",
          "model_name": "LayoutModel",
          "state": {
            "_view_name": "LayoutView",
            "grid_template_rows": null,
            "right": null,
            "justify_content": null,
            "_view_module": "@jupyter-widgets/base",
            "overflow": null,
            "_model_module_version": "1.2.0",
            "_view_count": null,
            "flex_flow": null,
            "width": null,
            "min_width": null,
            "border": null,
            "align_items": null,
            "bottom": null,
            "_model_module": "@jupyter-widgets/base",
            "top": null,
            "grid_column": null,
            "overflow_y": null,
            "overflow_x": null,
            "grid_auto_flow": null,
            "grid_area": null,
            "grid_template_columns": null,
            "flex": null,
            "_model_name": "LayoutModel",
            "justify_items": null,
            "grid_row": null,
            "max_height": null,
            "align_content": null,
            "visibility": null,
            "align_self": null,
            "height": null,
            "min_height": null,
            "padding": null,
            "grid_auto_rows": null,
            "grid_gap": null,
            "max_width": null,
            "order": null,
            "_view_module_version": "1.2.0",
            "grid_template_areas": null,
            "object_position": null,
            "object_fit": null,
            "grid_auto_columns": null,
            "margin": null,
            "display": null,
            "left": null
          }
        },
        "c3be437b67c54c40a44e077901918360": {
          "model_module": "@jupyter-widgets/controls",
          "model_name": "DescriptionStyleModel",
          "state": {
            "_view_name": "StyleView",
            "_model_name": "DescriptionStyleModel",
            "description_width": "",
            "_view_module": "@jupyter-widgets/base",
            "_model_module_version": "1.5.0",
            "_view_count": null,
            "_view_module_version": "1.2.0",
            "_model_module": "@jupyter-widgets/controls"
          }
        },
        "254315b033b54e45bfdf7ca815d0df16": {
          "model_module": "@jupyter-widgets/base",
          "model_name": "LayoutModel",
          "state": {
            "_view_name": "LayoutView",
            "grid_template_rows": null,
            "right": null,
            "justify_content": null,
            "_view_module": "@jupyter-widgets/base",
            "overflow": null,
            "_model_module_version": "1.2.0",
            "_view_count": null,
            "flex_flow": null,
            "width": null,
            "min_width": null,
            "border": null,
            "align_items": null,
            "bottom": null,
            "_model_module": "@jupyter-widgets/base",
            "top": null,
            "grid_column": null,
            "overflow_y": null,
            "overflow_x": null,
            "grid_auto_flow": null,
            "grid_area": null,
            "grid_template_columns": null,
            "flex": null,
            "_model_name": "LayoutModel",
            "justify_items": null,
            "grid_row": null,
            "max_height": null,
            "align_content": null,
            "visibility": null,
            "align_self": null,
            "height": null,
            "min_height": null,
            "padding": null,
            "grid_auto_rows": null,
            "grid_gap": null,
            "max_width": null,
            "order": null,
            "_view_module_version": "1.2.0",
            "grid_template_areas": null,
            "object_position": null,
            "object_fit": null,
            "grid_auto_columns": null,
            "margin": null,
            "display": null,
            "left": null
          }
        }
      }
    }
  },
  "cells": [
    {
      "cell_type": "code",
      "metadata": {
        "id": "Sz0yhFG-lsRf"
      },
      "source": [
        "import numpy as np\n",
        "import pandas as pd\n",
        "import matplotlib.pyplot as plt\n",
        "import seaborn as sns\n",
        "import torch\n",
        "import torch.nn as nn\n",
        "import torch.nn.functional as F \n",
        "import torch.optim as optim\n",
        "from tqdm.notebook import tqdm\n",
        "from sklearn.utils import shuffle\n",
        "import torchvision\n",
        "from torchvision import datasets, models, transforms"
      ],
      "execution_count": 1,
      "outputs": []
    },
    {
      "cell_type": "code",
      "metadata": {
        "id": "HiswBSHrT7ST"
      },
      "source": [
        "def calculating_loss(net, X, y, batch_size, loss_fn, optimizer, train_model=False):\r\n",
        "  \"\"\"\r\n",
        "  Calculating loss for given parameters.\r\n",
        "  Has option to train model(if train_model=True)\r\n",
        "  \"\"\"\r\n",
        "  X, y = shuffle(X, y)\r\n",
        "\r\n",
        "  for k in range(0, len(y), BATCH_SIZE):\r\n",
        "    X_batch = X[k:k+BATCH_SIZE].to(device)\r\n",
        "    y_batch = y[k:k+BATCH_SIZE].to(device)\r\n",
        "    \r\n",
        "    if train_model:\r\n",
        "      net.train()\r\n",
        "      outputs = net(X_batch.view(-1, 1, 224, 224).float())\r\n",
        "      loss = loss_fn(outputs, y_batch.float())\r\n",
        "      net.zero_grad()\r\n",
        "      loss.backward()\r\n",
        "      optimizer.step()    \r\n",
        "    else:\r\n",
        "      with torch.no_grad():\r\n",
        "        net.eval()\r\n",
        "        outputs = net(X_batch.view(-1, 1, 224, 224))\r\n",
        "        loss = loss_fn(outputs, y_batch.float())\r\n",
        "\r\n",
        "  loss = float(loss)\r\n",
        "  loss = np.round(loss, 2)\r\n",
        "\r\n",
        "  return loss\r\n",
        "\r\n",
        "def calculating_acc(net, X, y):\r\n",
        "  \"\"\"\r\n",
        "  Calculating accuracy for given network and data.\r\n",
        "  \"\"\"\r\n",
        "  correct = 0\r\n",
        "  total = 0\r\n",
        "\r\n",
        "  with torch.no_grad():\r\n",
        "    for i in range(len(y)):\r\n",
        "      label = int(torch.argmax(y[i]))\r\n",
        "      X_inner = X[i].to(device)\r\n",
        "      output = net(X_inner.view(1, 1, 224, 224).float())\r\n",
        "      pred = int(torch.argmax(output))\r\n",
        "      \r\n",
        "      if pred==label:\r\n",
        "        correct += 1\r\n",
        "\r\n",
        "      total += 1\r\n",
        "\r\n",
        "  acc = correct / total * 100\r\n",
        "  acc = np.round(acc, 2)\r\n",
        "\r\n",
        "  return acc"
      ],
      "execution_count": 2,
      "outputs": []
    },
    {
      "cell_type": "code",
      "metadata": {
        "colab": {
          "base_uri": "https://localhost:8080/"
        },
        "id": "p3zYFAsyvzTS",
        "outputId": "81a2dbf5-39ac-4410-a588-d57104c42840"
      },
      "source": [
        "if torch.cuda.is_available():\n",
        "    device = torch.device(\"cuda:0\")\n",
        "    print(\"Running on the GPU\")\n",
        "else:\n",
        "    device = torch.device(\"cpu\")\n",
        "    print(\"Running on the CPU\")"
      ],
      "execution_count": 3,
      "outputs": [
        {
          "output_type": "stream",
          "text": [
            "Running on the GPU\n"
          ],
          "name": "stdout"
        }
      ]
    },
    {
      "cell_type": "code",
      "metadata": {
        "colab": {
          "base_uri": "https://localhost:8080/"
        },
        "id": "krxTSi2Klwpn",
        "outputId": "b4b6f0d8-47b3-4fe7-e48c-cea2a4e5fe82"
      },
      "source": [
        "from google.colab import drive\n",
        "drive.mount(\"/content/drive\")\n",
        "\n",
        "X = np.load('/content/drive/My Drive/Notebooks/X_data(224x224, gray).npy', allow_pickle=True).astype(np.float32)\n",
        "y = np.load('/content/drive/My Drive/Notebooks/y_data(224x224, gray).npy', allow_pickle=True)"
      ],
      "execution_count": 4,
      "outputs": [
        {
          "output_type": "stream",
          "text": [
            "Drive already mounted at /content/drive; to attempt to forcibly remount, call drive.mount(\"/content/drive\", force_remount=True).\n"
          ],
          "name": "stdout"
        }
      ]
    },
    {
      "cell_type": "code",
      "metadata": {
        "id": "-gBF7kgBAF_S"
      },
      "source": [
        "X = X / 255.\r\n",
        "X = X.astype(np.float32)"
      ],
      "execution_count": 5,
      "outputs": []
    },
    {
      "cell_type": "code",
      "metadata": {
        "id": "pfppaV59AEfe"
      },
      "source": [
        "preprocess = transforms.Normalize(mean=[0.449], std=[0.22])"
      ],
      "execution_count": 6,
      "outputs": []
    },
    {
      "cell_type": "code",
      "metadata": {
        "colab": {
          "base_uri": "https://localhost:8080/",
          "height": 282
        },
        "id": "H6ITXPlImqK4",
        "outputId": "975f2c2a-b05a-4e53-d6a5-0fc56d5413b2"
      },
      "source": [
        "a = X[0].flatten()\n",
        "sns.histplot(a)\n",
        "plt.title('Data distribution before normalization', fontsize = 14)\n",
        "plt.show()"
      ],
      "execution_count": 7,
      "outputs": [
        {
          "output_type": "display_data",
          "data": {
            "image/png": "[encoded data removed]",
            "text/plain": [
              "<Figure size 432x288 with 1 Axes>"
            ]
          },
          "metadata": {
            "tags": [],
            "needs_background": "light"
          }
        }
      ]
    },
    {
      "cell_type": "code",
      "metadata": {
        "id": "ZxNFusVuwQ94"
      },
      "source": [
        "X_train = torch.tensor(X[:20000]).view(-1, 1, 224, 224)\n",
        "y_train = torch.tensor(y[:20000])\n",
        "\n",
        "X_test = torch.tensor(X[20000:]).view(-1, 1, 224, 224)\n",
        "y_test = torch.tensor(y[20000:])\n",
        "\n",
        "del X, y"
      ],
      "execution_count": 8,
      "outputs": []
    },
    {
      "cell_type": "code",
      "metadata": {
        "id": "xr6pAzHNA9yt"
      },
      "source": [
        "X_train = preprocess(X_train)\n",
        "X_test = preprocess(X_test)"
      ],
      "execution_count": 9,
      "outputs": []
    },
    {
      "cell_type": "code",
      "metadata": {
        "colab": {
          "base_uri": "https://localhost:8080/",
          "height": 282
        },
        "id": "SGrnvw6pBINj",
        "outputId": "ac73c0ff-8469-44df-e696-83118d309de2"
      },
      "source": [
        "a = X_train[0].flatten()\n",
        "sns.histplot(a)\n",
        "plt.title('Data distribution after normalization', fontsize=14)\n",
        "plt.show()"
      ],
      "execution_count": 10,
      "outputs": [
        {
          "output_type": "display_data",
          "data": {
            "image/png": "[encoded data removed]",
            "text/plain": [
              "<Figure size 432x288 with 1 Axes>"
            ]
          },
          "metadata": {
            "tags": [],
            "needs_background": "light"
          }
        }
      ]
    },
    {
      "cell_type": "markdown",
      "metadata": {
        "id": "rRttUklknfFj"
      },
      "source": [
        "### Model"
      ]
    },
    {
      "cell_type": "code",
      "metadata": {
        "colab": {
          "base_uri": "https://localhost:8080/"
        },
        "id": "xE09vywan2oW",
        "outputId": "3ccc739c-a830-4523-ec48-c581a6f6a05e"
      },
      "source": [
        "vgg19 = models.vgg16_bn(pretrained=True)\n",
        "\n",
        "for param in vgg19.parameters():\n",
        "  param.requires_grad = False\n",
        "\n",
        "\n",
        "vgg19.features[0] = nn.Conv2d(1, 64, kernel_size=(3, 3), stride=(1, 1), padding=(1, 1))\n",
        "cls = nn.Sequential(nn.Linear(25088, 1024),\n",
        "                       nn.ReLU(inplace=True),\n",
        "                       nn.Dropout(p=0.5, inplace=False),\n",
        "                       nn.Linear(1024, 2),\n",
        "                       nn.Softmax(1)\n",
        "                       )\n",
        "\n",
        "vgg19.classifier = cls\n",
        "\n",
        "vgg19.to(device)\n",
        "print('')"
      ],
      "execution_count": 11,
      "outputs": [
        {
          "output_type": "stream",
          "text": [
            "\n"
          ],
          "name": "stdout"
        }
      ]
    },
    {
      "cell_type": "code",
      "metadata": {
        "id": "94cw17BKwxfF",
        "colab": {
          "base_uri": "https://localhost:8080/",
          "height": 66,
          "referenced_widgets": [
            "a019f3e9a0e346d6b731129c9631c44d",
            "e6471574c6ae40428bfedf2dc2b95697",
            "64b029d071354cb59328a1b685ba9246",
            "3cb807264bd04600a96a3b9531dfc792",
            "881ca045636f40caa47c4f3449a0867b",
            "b97fa7282bdc4c849ec5e4a2a0b22b00",
            "c3be437b67c54c40a44e077901918360",
            "254315b033b54e45bfdf7ca815d0df16"
          ]
        },
        "outputId": "d67979d3-02d6-4e0f-911c-fed372af29b1"
      },
      "source": [
        "EPOCHS = np.arange(1)\n",
        "BATCH_SIZE = 64\n",
        "LR = 0.0001\n",
        "WD = 0.003\n",
        "loss_fn = nn.BCELoss()\n",
        "optimizer = optim.Adam(vgg19.parameters(), lr =LR, weight_decay=WD)\n",
        "\n",
        "train_loss_array = []\n",
        "test_loss_array = []\n",
        "train_acc_array = []\n",
        "test_acc_array = []\n",
        "\n",
        "for epoch in tqdm(EPOCHS):\n",
        "\n",
        "  train_loss = calculating_loss(vgg19, X_train, y_train, BATCH_SIZE, loss_fn, optimizer, train_model=True)\n",
        "  train_loss_array.append(train_loss)\n",
        "\n",
        "  test_loss = calculating_loss(vgg19, X_test, y_test, BATCH_SIZE, loss_fn, optimizer, train_model=False)\n",
        "  test_loss_array.append(test_loss)\n",
        "\n",
        "  train_acc = calculating_acc(vgg19, X_train, y_train)\n",
        "  train_acc_array.append(train_acc)\n",
        "\n",
        "  test_acc = calculating_acc(vgg19, X_test, y_test)\n",
        "  test_acc_array.append(test_acc)"
      ],
      "execution_count": 12,
      "outputs": [
        {
          "output_type": "display_data",
          "data": {
            "application/vnd.jupyter.widget-view+json": {
              "model_id": "a019f3e9a0e346d6b731129c9631c44d",
              "version_minor": 0,
              "version_major": 2
            },
            "text/plain": [
              "HBox(children=(FloatProgress(value=0.0, max=1.0), HTML(value='')))"
            ]
          },
          "metadata": {
            "tags": []
          }
        },
        {
          "output_type": "stream",
          "text": [
            "\n"
          ],
          "name": "stdout"
        }
      ]
    },
    {
      "cell_type": "code",
      "metadata": {
        "id": "FwL8h91fdWMb",
        "colab": {
          "base_uri": "https://localhost:8080/"
        },
        "outputId": "a399acbe-549c-4454-d372-6c9dcc0b19e4"
      },
      "source": [
        "print('Train loss: ', train_loss_array)\n",
        "print('Test loss: ', test_loss_array)"
      ],
      "execution_count": 20,
      "outputs": [
        {
          "output_type": "stream",
          "text": [
            "Previous>\n",
            "Train loss:  [0.12]\n",
            "Test loss:  [0.13]\n"
          ],
          "name": "stdout"
        }
      ]
    },
    {
      "cell_type": "code",
      "metadata": {
        "id": "VzbSBamiWnTs",
        "colab": {
          "base_uri": "https://localhost:8080/"
        },
        "outputId": "20b150de-7502-4f01-a6dc-b4ba6d014379"
      },
      "source": [
        "print('Train Acc: ', train_acc_array)\n",
        "print('Test Acc: ', test_acc_array)"
      ],
      "execution_count": 21,
      "outputs": [
        {
          "output_type": "stream",
          "text": [
            "Previous>\n",
            "Train Acc:  [96.04]\n",
            "Test Acc:  [93.05]\n"
          ],
          "name": "stdout"
        }
      ]
    }
  ]
}
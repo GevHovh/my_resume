{
 "cells": [
  {
   "cell_type": "markdown",
   "metadata": {},
   "source": [
    "# Every data science project's full pipeline on the example of House Prices data."
   ]
  },
  {
   "cell_type": "markdown",
   "metadata": {},
   "source": [
    "<i>Enjoy your reading</i>"
   ]
  },
  {
   "cell_type": "code",
   "execution_count": 2,
   "metadata": {},
   "outputs": [],
   "source": [
    "import pandas as pd\n",
    "import numpy as np\n",
    "import matplotlib.pyplot as plt\n",
    "import seaborn as sns\n",
    "from sklearn.model_selection import train_test_split\n",
    "from sklearn.metrics import mean_squared_log_error\n",
    "from sklearn.metrics import mean_absolute_error"
   ]
  },
  {
   "cell_type": "code",
   "execution_count": 3,
   "metadata": {},
   "outputs": [],
   "source": [
    "def less_values(frame, percentile):\n",
    "    \"\"\"\n",
    "    Checks which columns have more than certain number of missing values and drops them.\n",
    "    \"\"\"\n",
    "    df = frame\n",
    "    for col in df.columns:\n",
    "        count = df[col].count()\n",
    "        if count < 1460*float(percentile):\n",
    "            df.drop(col, axis=1, inplace=True)\n",
    "    \n",
    "    return df"
   ]
  },
  {
   "cell_type": "code",
   "execution_count": 4,
   "metadata": {},
   "outputs": [],
   "source": [
    "pd.set_option('display.max_columns', None)"
   ]
  },
  {
   "cell_type": "code",
   "execution_count": 5,
   "metadata": {},
   "outputs": [],
   "source": [
    "path = r'C:\\Users\\Gev\\Desktop\\Data science\\house-prices-advanced-regression-techniques\\files\\train.csv'\n",
    "df = pd.read_csv(path, index_col = 0)"
   ]
  },
  {
   "cell_type": "markdown",
   "metadata": {},
   "source": [
    "## 1.0 Understanding business problem <br>2.0 Data collection"
   ]
  },
  {
   "cell_type": "markdown",
   "metadata": {},
   "source": [
    "As data is taken from [kaggle](https://www.kaggle.com/c/house-prices-advanced-regression-techniques), I'll skip this 2 steps."
   ]
  },
  {
   "cell_type": "code",
   "execution_count": 6,
   "metadata": {},
   "outputs": [],
   "source": [
    "# Blank page"
   ]
  },
  {
   "cell_type": "markdown",
   "metadata": {},
   "source": [
    "## 3.0 Data preporation"
   ]
  },
  {
   "cell_type": "code",
   "execution_count": 7,
   "metadata": {},
   "outputs": [],
   "source": [
    "import category_encoders as ce\n",
    "from sklearn.impute import SimpleImputer"
   ]
  },
  {
   "cell_type": "code",
   "execution_count": 8,
   "metadata": {},
   "outputs": [],
   "source": [
    "# Some columns have an integer data type, while they are categorical.\n",
    "# For future convenience, I'll change the data type to object\n",
    "\n",
    "for col in ['MSSubClass','OverallQual', 'OverallCond']:\n",
    "    df[col] = df[col].astype('object')"
   ]
  },
  {
   "cell_type": "code",
   "execution_count": 9,
   "metadata": {},
   "outputs": [],
   "source": [
    "# As there are some columns with insignificant amount of values\n",
    "df = less_values(frame=df, percentile=0.8)"
   ]
  },
  {
   "cell_type": "code",
   "execution_count": 10,
   "metadata": {},
   "outputs": [],
   "source": [
    "# I want to focus more on continuous and categorcical data, so I'll just drop inforamtion about date\n",
    "date = np.array(['YearBuilt', 'YearRemodAdd', 'GarageYrBlt', 'MoSold', 'YrSold'])\n",
    "df = df.drop(date, axis = 1)"
   ]
  },
  {
   "cell_type": "code",
   "execution_count": 11,
   "metadata": {},
   "outputs": [],
   "source": [
    "# Define numerical data columns\n",
    "num_cols = np.array(df.select_dtypes(include=['int64', 'float64']).columns)\n",
    "num_cols = np.delete(num_cols, len(num_cols) - 1) # Removing SalePrice i.e target\n",
    "\n",
    "# Define categorical data columns\n",
    "cat_cols = np.array(df.select_dtypes(include=['object']).columns)"
   ]
  },
  {
   "cell_type": "code",
   "execution_count": 12,
   "metadata": {},
   "outputs": [],
   "source": [
    "# Since I want to use imputers and encoders, I need train data to fit them\n",
    "X_train, X_test, y_train, y_test = train_test_split(df.iloc[:,:-1], df.iloc[:, -1], test_size=.3, random_state=42)"
   ]
  },
  {
   "cell_type": "markdown",
   "metadata": {},
   "source": [
    "### 3.1 Imputers: handling missing values"
   ]
  },
  {
   "cell_type": "markdown",
   "metadata": {},
   "source": [
    "##### Numerical features"
   ]
  },
  {
   "cell_type": "code",
   "execution_count": 13,
   "metadata": {},
   "outputs": [
    {
     "name": "stdout",
     "output_type": "stream",
     "text": [
      "Missing values: False\n"
     ]
    }
   ],
   "source": [
    "num_transformer = SimpleImputer(strategy='median', missing_values=np.nan)\n",
    "X_train[num_cols] = num_transformer.fit_transform(X_train[num_cols])\n",
    "print('Missing values: {}'.format(X_train[num_cols].isnull().any().any()))"
   ]
  },
  {
   "cell_type": "code",
   "execution_count": 14,
   "metadata": {},
   "outputs": [
    {
     "name": "stdout",
     "output_type": "stream",
     "text": [
      "Missing values: False\n"
     ]
    }
   ],
   "source": [
    "X_test[num_cols] = num_transformer.transform(X_test[num_cols])\n",
    "print('Missing values: {}'.format(X_test[num_cols].isnull().any().any()))"
   ]
  },
  {
   "cell_type": "markdown",
   "metadata": {},
   "source": [
    "##### Categorical features"
   ]
  },
  {
   "cell_type": "code",
   "execution_count": 15,
   "metadata": {},
   "outputs": [
    {
     "name": "stdout",
     "output_type": "stream",
     "text": [
      "Missing values: False\n"
     ]
    }
   ],
   "source": [
    "cat_imputer = SimpleImputer(strategy='most_frequent', missing_values=np.nan)\n",
    "X_train[cat_cols] = cat_imputer.fit_transform(X_train[cat_cols])\n",
    "print('Missing values: {}'.format(X_train[cat_cols].isnull().any().any()))"
   ]
  },
  {
   "cell_type": "code",
   "execution_count": 16,
   "metadata": {},
   "outputs": [
    {
     "name": "stdout",
     "output_type": "stream",
     "text": [
      "Missing values: False\n"
     ]
    }
   ],
   "source": [
    "X_test[cat_cols] = cat_imputer.transform(X_test[cat_cols])\n",
    "print('Missing values: {}'.format(X_test[cat_cols].isnull().any().any()))"
   ]
  },
  {
   "cell_type": "markdown",
   "metadata": {},
   "source": [
    "### 3.2 Enocoders\n",
    "I'll use 2 different encoders. Which one is better I already know, but I want to show the difference."
   ]
  },
  {
   "cell_type": "markdown",
   "metadata": {},
   "source": [
    "##### Target encoder"
   ]
  },
  {
   "cell_type": "code",
   "execution_count": 17,
   "metadata": {},
   "outputs": [],
   "source": [
    "t_encoder = ce.TargetEncoder(cols=cat_cols)"
   ]
  },
  {
   "cell_type": "code",
   "execution_count": 18,
   "metadata": {},
   "outputs": [
    {
     "data": {
      "text/html": [
       "<div>\n",
       "<style scoped>\n",
       "    .dataframe tbody tr th:only-of-type {\n",
       "        vertical-align: middle;\n",
       "    }\n",
       "\n",
       "    .dataframe tbody tr th {\n",
       "        vertical-align: top;\n",
       "    }\n",
       "\n",
       "    .dataframe thead th {\n",
       "        text-align: right;\n",
       "    }\n",
       "</style>\n",
       "<table border=\"1\" class=\"dataframe\">\n",
       "  <thead>\n",
       "    <tr style=\"text-align: right;\">\n",
       "      <th></th>\n",
       "      <th>MSSubClass</th>\n",
       "      <th>MSZoning</th>\n",
       "      <th>Street</th>\n",
       "      <th>LotShape</th>\n",
       "      <th>LandContour</th>\n",
       "    </tr>\n",
       "    <tr>\n",
       "      <th>Id</th>\n",
       "      <th></th>\n",
       "      <th></th>\n",
       "      <th></th>\n",
       "      <th></th>\n",
       "      <th></th>\n",
       "    </tr>\n",
       "  </thead>\n",
       "  <tbody>\n",
       "    <tr>\n",
       "      <th>136</th>\n",
       "      <td>185972.761905</td>\n",
       "      <td>191179.183395</td>\n",
       "      <td>181392.359528</td>\n",
       "      <td>166232.913793</td>\n",
       "      <td>180203.52694</td>\n",
       "    </tr>\n",
       "  </tbody>\n",
       "</table>\n",
       "</div>"
      ],
      "text/plain": [
       "        MSSubClass       MSZoning         Street       LotShape   LandContour\n",
       "Id                                                                           \n",
       "136  185972.761905  191179.183395  181392.359528  166232.913793  180203.52694"
      ]
     },
     "execution_count": 18,
     "metadata": {},
     "output_type": "execute_result"
    }
   ],
   "source": [
    "X_train_target = X_train.copy()\n",
    "X_train_target[cat_cols] = t_encoder.fit_transform(X_train[cat_cols], y_train)\n",
    "X_train_target[cat_cols[0:5]].head(1) # Checking the results"
   ]
  },
  {
   "cell_type": "code",
   "execution_count": 19,
   "metadata": {},
   "outputs": [
    {
     "data": {
      "text/html": [
       "<div>\n",
       "<style scoped>\n",
       "    .dataframe tbody tr th:only-of-type {\n",
       "        vertical-align: middle;\n",
       "    }\n",
       "\n",
       "    .dataframe tbody tr th {\n",
       "        vertical-align: top;\n",
       "    }\n",
       "\n",
       "    .dataframe thead th {\n",
       "        text-align: right;\n",
       "    }\n",
       "</style>\n",
       "<table border=\"1\" class=\"dataframe\">\n",
       "  <thead>\n",
       "    <tr style=\"text-align: right;\">\n",
       "      <th></th>\n",
       "      <th>MSSubClass</th>\n",
       "      <th>MSZoning</th>\n",
       "      <th>Street</th>\n",
       "      <th>LotShape</th>\n",
       "      <th>LandContour</th>\n",
       "    </tr>\n",
       "    <tr>\n",
       "      <th>Id</th>\n",
       "      <th></th>\n",
       "      <th></th>\n",
       "      <th></th>\n",
       "      <th></th>\n",
       "      <th></th>\n",
       "    </tr>\n",
       "  </thead>\n",
       "  <tbody>\n",
       "    <tr>\n",
       "      <th>893</th>\n",
       "      <td>185972.761905</td>\n",
       "      <td>191179.183395</td>\n",
       "      <td>181392.359528</td>\n",
       "      <td>166232.913793</td>\n",
       "      <td>180203.52694</td>\n",
       "    </tr>\n",
       "  </tbody>\n",
       "</table>\n",
       "</div>"
      ],
      "text/plain": [
       "        MSSubClass       MSZoning         Street       LotShape   LandContour\n",
       "Id                                                                           \n",
       "893  185972.761905  191179.183395  181392.359528  166232.913793  180203.52694"
      ]
     },
     "execution_count": 19,
     "metadata": {},
     "output_type": "execute_result"
    }
   ],
   "source": [
    "X_test_target = X_test.copy()\n",
    "X_test_target[cat_cols] = t_encoder.transform(X_test[cat_cols])\n",
    "X_test_target[cat_cols[0:5]].head(1)"
   ]
  },
  {
   "cell_type": "markdown",
   "metadata": {},
   "source": [
    "##### [GLMM](https://contrib.scikit-learn.org/category_encoders/glmm.html) encoder"
   ]
  },
  {
   "cell_type": "code",
   "execution_count": 20,
   "metadata": {},
   "outputs": [],
   "source": [
    "glmm = ce.glmm.GLMMEncoder()"
   ]
  },
  {
   "cell_type": "code",
   "execution_count": 21,
   "metadata": {},
   "outputs": [
    {
     "data": {
      "text/html": [
       "<div>\n",
       "<style scoped>\n",
       "    .dataframe tbody tr th:only-of-type {\n",
       "        vertical-align: middle;\n",
       "    }\n",
       "\n",
       "    .dataframe tbody tr th {\n",
       "        vertical-align: top;\n",
       "    }\n",
       "\n",
       "    .dataframe thead th {\n",
       "        text-align: right;\n",
       "    }\n",
       "</style>\n",
       "<table border=\"1\" class=\"dataframe\">\n",
       "  <thead>\n",
       "    <tr style=\"text-align: right;\">\n",
       "      <th></th>\n",
       "      <th>Utilities</th>\n",
       "      <th>LotConfig</th>\n",
       "      <th>LandSlope</th>\n",
       "      <th>Neighborhood</th>\n",
       "      <th>Condition1</th>\n",
       "    </tr>\n",
       "    <tr>\n",
       "      <th>Id</th>\n",
       "      <th></th>\n",
       "      <th></th>\n",
       "      <th></th>\n",
       "      <th></th>\n",
       "      <th></th>\n",
       "    </tr>\n",
       "  </thead>\n",
       "  <tbody>\n",
       "    <tr>\n",
       "      <th>136</th>\n",
       "      <td>5.34905</td>\n",
       "      <td>-11505.913207</td>\n",
       "      <td>-12349.133981</td>\n",
       "      <td>4255.83867</td>\n",
       "      <td>9521.750105</td>\n",
       "    </tr>\n",
       "  </tbody>\n",
       "</table>\n",
       "</div>"
      ],
      "text/plain": [
       "     Utilities     LotConfig     LandSlope  Neighborhood   Condition1\n",
       "Id                                                                   \n",
       "136    5.34905 -11505.913207 -12349.133981    4255.83867  9521.750105"
      ]
     },
     "execution_count": 21,
     "metadata": {},
     "output_type": "execute_result"
    }
   ],
   "source": [
    "X_train_glmm = X_train.copy()\n",
    "X_train_glmm[cat_cols] = glmm.fit_transform(X_train[cat_cols], y_train)\n",
    "X_train_glmm[cat_cols[5:10]].head(1)"
   ]
  },
  {
   "cell_type": "code",
   "execution_count": 22,
   "metadata": {},
   "outputs": [
    {
     "data": {
      "text/html": [
       "<div>\n",
       "<style scoped>\n",
       "    .dataframe tbody tr th:only-of-type {\n",
       "        vertical-align: middle;\n",
       "    }\n",
       "\n",
       "    .dataframe tbody tr th {\n",
       "        vertical-align: top;\n",
       "    }\n",
       "\n",
       "    .dataframe thead th {\n",
       "        text-align: right;\n",
       "    }\n",
       "</style>\n",
       "<table border=\"1\" class=\"dataframe\">\n",
       "  <thead>\n",
       "    <tr style=\"text-align: right;\">\n",
       "      <th></th>\n",
       "      <th>Utilities</th>\n",
       "      <th>LotConfig</th>\n",
       "      <th>LandSlope</th>\n",
       "      <th>Neighborhood</th>\n",
       "      <th>Condition1</th>\n",
       "    </tr>\n",
       "    <tr>\n",
       "      <th>Id</th>\n",
       "      <th></th>\n",
       "      <th></th>\n",
       "      <th></th>\n",
       "      <th></th>\n",
       "      <th></th>\n",
       "    </tr>\n",
       "  </thead>\n",
       "  <tbody>\n",
       "    <tr>\n",
       "      <th>893</th>\n",
       "      <td>5.34905</td>\n",
       "      <td>-11505.913207</td>\n",
       "      <td>-12349.133981</td>\n",
       "      <td>-46765.19153</td>\n",
       "      <td>9521.750105</td>\n",
       "    </tr>\n",
       "  </tbody>\n",
       "</table>\n",
       "</div>"
      ],
      "text/plain": [
       "     Utilities     LotConfig     LandSlope  Neighborhood   Condition1\n",
       "Id                                                                   \n",
       "893    5.34905 -11505.913207 -12349.133981  -46765.19153  9521.750105"
      ]
     },
     "execution_count": 22,
     "metadata": {},
     "output_type": "execute_result"
    }
   ],
   "source": [
    "X_test_glmm = X_test.copy()\n",
    "X_test_glmm[cat_cols] = glmm.transform(X_test[cat_cols])\n",
    "X_test_glmm[cat_cols[5:10]].head(1)"
   ]
  },
  {
   "cell_type": "code",
   "execution_count": 23,
   "metadata": {},
   "outputs": [],
   "source": [
    "# Blank page"
   ]
  },
  {
   "cell_type": "markdown",
   "metadata": {},
   "source": [
    "## 4.0 Data exploration"
   ]
  },
  {
   "cell_type": "markdown",
   "metadata": {},
   "source": [
    "I already done data exploration im my previous notebooks. You can find them in my [github](https://github.com/GevHovh/my_resume)."
   ]
  },
  {
   "cell_type": "code",
   "execution_count": 24,
   "metadata": {},
   "outputs": [],
   "source": [
    "# Blank page"
   ]
  },
  {
   "cell_type": "markdown",
   "metadata": {},
   "source": [
    "## 5.0 Feature selection"
   ]
  },
  {
   "cell_type": "markdown",
   "metadata": {},
   "source": [
    "For feature selection I'll use SelectKBest from sklearn package. In my draft notebook I tried other methods(like Linear Regression with looking at coefficients, and SelectFromModel from sklearn package with Lasso, but they showed worse results."
   ]
  },
  {
   "cell_type": "code",
   "execution_count": 25,
   "metadata": {},
   "outputs": [],
   "source": [
    "from sklearn.feature_selection import SelectKBest, f_regression"
   ]
  },
  {
   "cell_type": "code",
   "execution_count": 26,
   "metadata": {},
   "outputs": [],
   "source": [
    "selector = SelectKBest(f_regression, k=45) # I have found out best k simply by trial and error"
   ]
  },
  {
   "cell_type": "code",
   "execution_count": 27,
   "metadata": {},
   "outputs": [],
   "source": [
    "X_train_new = selector.fit_transform(X_train_target, y_train)\n",
    "X_train_new = pd.DataFrame(selector.inverse_transform(X_train_new),\n",
    "                          index=X_train.index,\n",
    "                          columns=X_train.columns)\n",
    "selected_columns_target = X_train_new.columns[X_train_new.var() != 0]"
   ]
  },
  {
   "cell_type": "code",
   "execution_count": 28,
   "metadata": {},
   "outputs": [
    {
     "name": "stdout",
     "output_type": "stream",
     "text": [
      "First 5 features from target encoded data: ['MSSubClass', 'MSZoning', 'LotFrontage', 'LotArea', 'LotShape']\n"
     ]
    }
   ],
   "source": [
    "print('First 5 features from target encoded data: {}'.format(list(selected_columns_target[:5])))"
   ]
  },
  {
   "cell_type": "code",
   "execution_count": 29,
   "metadata": {},
   "outputs": [],
   "source": [
    "X_train_new = selector.fit_transform(X_train_glmm, y_train)\n",
    "X_train_new = pd.DataFrame(selector.inverse_transform(X_train_new),\n",
    "                          index=X_train.index,\n",
    "                          columns=X_train.columns)\n",
    "selected_columns_glmm = X_train_new.columns[X_train_new.var() != 0]"
   ]
  },
  {
   "cell_type": "code",
   "execution_count": 30,
   "metadata": {},
   "outputs": [
    {
     "name": "stdout",
     "output_type": "stream",
     "text": [
      "First 5 features from glmm encoded data: ['MSZoning', 'LotFrontage', 'LotArea', 'LotShape', 'LandContour']\n"
     ]
    }
   ],
   "source": [
    "print('First 5 features from glmm encoded data: {}'.format(list(selected_columns_glmm[:5])))"
   ]
  },
  {
   "cell_type": "code",
   "execution_count": 31,
   "metadata": {},
   "outputs": [],
   "source": [
    "# Blank page"
   ]
  },
  {
   "cell_type": "markdown",
   "metadata": {},
   "source": [
    "## 6.0 Model selection"
   ]
  },
  {
   "cell_type": "markdown",
   "metadata": {},
   "source": [
    "I considered three models:<br>\n",
    "1) Simple Linear regression <br>\n",
    "2) Random forest <br>\n",
    "3) XGBoost regression <br>"
   ]
  },
  {
   "cell_type": "code",
   "execution_count": 32,
   "metadata": {},
   "outputs": [],
   "source": [
    "from sklearn.linear_model import LinearRegression\n",
    "from sklearn.ensemble import RandomForestRegressor\n",
    "from xgboost import XGBRegressor\n",
    "from sklearn.model_selection import cross_val_score"
   ]
  },
  {
   "cell_type": "code",
   "execution_count": 33,
   "metadata": {},
   "outputs": [],
   "source": [
    "reg = LinearRegression()\n",
    "forest = RandomForestRegressor(random_state=42)\n",
    "xgb = XGBRegressor(random_state=42)"
   ]
  },
  {
   "cell_type": "code",
   "execution_count": 34,
   "metadata": {},
   "outputs": [],
   "source": [
    "models = {'Linear Regression': reg,\n",
    "         'Random Forest': forest,\n",
    "         'XGB Regression': xgb}"
   ]
  },
  {
   "cell_type": "code",
   "execution_count": 35,
   "metadata": {},
   "outputs": [],
   "source": [
    "# For future cross validation I'll use all data I have\n",
    "all_target = pd.concat((X_train_target, X_test_target))\n",
    "all_glmm = pd.concat((X_train_glmm, X_test_glmm))\n",
    "all_y = pd.concat((y_train, y_test))"
   ]
  },
  {
   "cell_type": "code",
   "execution_count": 36,
   "metadata": {},
   "outputs": [],
   "source": [
    "results = {}\n",
    "target_means = []\n",
    "glmm_means = []\n",
    "\n",
    "for i in models:\n",
    "    # Calculating cross validation scores and mean for target encoded data\n",
    "    models[i].fit(X_train_target[selected_columns_target], y_train)\n",
    "    t_score = cross_val_score(models[i], all_target[selected_columns_target], all_y, scoring='neg_mean_absolute_error', cv=3)\n",
    "    t_score = -1 * t_score\n",
    "    t_score = np.round(t_score, 1)\n",
    "    t_mean = np.round(t_score.mean(), 1)\n",
    "    t_score = ('targer score', t_score, t_mean)\n",
    "    target_means.append(t_mean)\n",
    "    \n",
    "    # Calculating cross validation scores and mean for glmm encoded data\n",
    "    models[i].fit(X_train_glmm[selected_columns_glmm], y_train)\n",
    "    glmm_score = cross_val_score(models[i], all_glmm[selected_columns_glmm], all_y, scoring='neg_mean_absolute_error', cv=3)\n",
    "    glmm_score = -1 * glmm_score\n",
    "    glmm_score = np.round(glmm_score, 1)\n",
    "    glmm_mean = np.round(glmm_score.mean(), 1)\n",
    "    glmm_score = ('glmm score', glmm_score, glmm_mean)\n",
    "    glmm_means.append(glmm_mean)\n",
    "    \n",
    "    # score\n",
    "    score = [t_score, glmm_score]\n",
    "    results[i] = score"
   ]
  },
  {
   "cell_type": "code",
   "execution_count": 37,
   "metadata": {},
   "outputs": [],
   "source": [
    "sns.set_style('whitegrid')"
   ]
  },
  {
   "cell_type": "code",
   "execution_count": 38,
   "metadata": {},
   "outputs": [
    {
     "data": {
      "image/png": "[encoded data removed]",
      "text/plain": [
       "<Figure size 936x360 with 2 Axes>"
      ]
     },
     "metadata": {},
     "output_type": "display_data"
    }
   ],
   "source": [
    "fig, (ax1, ax2) = plt.subplots(1,2, figsize=(13, 5))\n",
    "plt.subplots_adjust(top=0.80)\n",
    "fig.suptitle('Cross validation results from train data', fontsize=16)\n",
    "\n",
    "x_axis = list(models.keys())\n",
    "ax1 = sns.barplot(x=x_axis, y=target_means, palette='Set2', ax=ax1)\n",
    "ax1.set_title('Target encoded data', fontsize=14)\n",
    "ax1.set_ylim((0, 22000))\n",
    "ax1.set_ylabel('Mean absolute error')\n",
    "\n",
    "ax2 = sns.barplot(x=x_axis, y=glmm_means, palette='Set2', ax=ax2)\n",
    "ax2.set_title('Glmm encoded data', fontsize=14)\n",
    "ax2.set_ylim((0, 22000))\n",
    "ax2.set_ylabel('Mean absolute error')\n",
    "\n",
    "\n",
    "plt.show()"
   ]
  },
  {
   "cell_type": "code",
   "execution_count": 39,
   "metadata": {},
   "outputs": [
    {
     "name": "stdout",
     "output_type": "stream",
     "text": [
      "Linear Regression:\n",
      "[('targer score', array([20763.4, 18547.8, 20309.1]), 19873.4), ('glmm score', array([21569.8, 19204.2, 20561.4]), 20445.1)]\n",
      "\n",
      "\n",
      "Random Forest:\n",
      "[('targer score', array([20092. , 16264.1, 16263.6]), 17539.9), ('glmm score', array([20023. , 16321.6, 15935.7]), 17426.8)]\n",
      "\n",
      "\n",
      "XGB Regression:\n",
      "[('targer score', array([19709.8, 17089.5, 16596. ]), 17798.4), ('glmm score', array([19761.3, 17045. , 17221. ]), 18009.1)]\n",
      "_____________________________________________________________________________________________________________________________\n"
     ]
    }
   ],
   "source": [
    "# More detailed\n",
    "for key in results:\n",
    "    print(key + ':')\n",
    "    print(results[key])\n",
    "    \n",
    "    if key == 'XGB Regression':\n",
    "        print('_'*125)\n",
    "    else:\n",
    "        print('\\n')"
   ]
  },
  {
   "cell_type": "markdown",
   "metadata": {},
   "source": [
    "##### We can see from the above, that Random Forest and  XGB Regression algorithms show better results. But to make sure about my choice, I'll evaluate them on test data."
   ]
  },
  {
   "cell_type": "code",
   "execution_count": 40,
   "metadata": {},
   "outputs": [],
   "source": [
    "def train_model(model, X_train, X_test, y_train=y_train, y_test=y_test):\n",
    "    \"\"\"\n",
    "    Fitting model, and scoring with mean absolute error\n",
    "    \"\"\"\n",
    "    model.fit(X_train, y_train)\n",
    "    pred = model.predict(X_test)\n",
    "    score = mean_absolute_error(y_test, pred)\n",
    "    return score"
   ]
  },
  {
   "cell_type": "code",
   "execution_count": 41,
   "metadata": {},
   "outputs": [],
   "source": [
    "test_target = []\n",
    "test_glmm = []\n",
    "\n",
    "for i in models:\n",
    "    # Calculating mean absolute error for target encoded data\n",
    "    score = train_model(models[i], X_train_target[selected_columns_target], X_test_target[selected_columns_target])\n",
    "    score = np.round(score, 1)\n",
    "    test_target.append(score)\n",
    "    \n",
    "    # Calculating mean absolute error for glmm encoded data\n",
    "    score = train_model(models[i], X_train_glmm[selected_columns_glmm], X_test_glmm[selected_columns_glmm])\n",
    "    score = np.round(score, 1)\n",
    "    test_glmm.append(score)"
   ]
  },
  {
   "cell_type": "code",
   "execution_count": 42,
   "metadata": {},
   "outputs": [
    {
     "data": {
      "image/png": "[encoded data removed]",
      "text/plain": [
       "<Figure size 936x360 with 2 Axes>"
      ]
     },
     "metadata": {},
     "output_type": "display_data"
    }
   ],
   "source": [
    "fig, (ax1, ax2) = plt.subplots(1,2, figsize=(13, 5))\n",
    "plt.subplots_adjust(top=0.8)\n",
    "fig.suptitle('Evaluation results from test data', fontsize=16)\n",
    "\n",
    "x_axis = list(models.keys())\n",
    "ax1 = sns.barplot(x=x_axis, y=test_target, palette='Set2', ax=ax1)\n",
    "ax1.set_title('Target encoded data', fontsize=14)\n",
    "ax1.set_ylim((0, 22000))\n",
    "ax1.set_ylabel('Mean absolute error')\n",
    "\n",
    "ax2 = sns.barplot(x=x_axis, y=test_glmm, palette='Set2', ax=ax2)\n",
    "ax2.set_title('Glmm encoded data', fontsize=14)\n",
    "ax2.set_ylim((0, 22000))\n",
    "ax2.set_ylabel('Mean absolute error')\n",
    "\n",
    "plt.show()"
   ]
  },
  {
   "cell_type": "code",
   "execution_count": 43,
   "metadata": {},
   "outputs": [
    {
     "name": "stdout",
     "output_type": "stream",
     "text": [
      "Linear Regression:\n",
      "  Target encoded data: 19903.2\n",
      "  Glmm encoded data: 20340.3\n",
      "\n",
      "\n",
      "Random Forest:\n",
      "  Target encoded data: 16044.4\n",
      "  Glmm encoded data: 16038.6\n",
      "\n",
      "\n",
      "XGB Regression:\n",
      "  Target encoded data: 15951.0\n",
      "  Glmm encoded data: 17152.1\n",
      "_____________________________________________________________________________________________________________________________\n"
     ]
    }
   ],
   "source": [
    "# More detailed\n",
    "for i in range(3):\n",
    "    print(x_axis[i] + ':')\n",
    "    print('  Target encoded data: ' + str(test_target[i]))\n",
    "    print('  Glmm encoded data: ' + str(test_glmm[i]))\n",
    "    \n",
    "    if i == 2:\n",
    "        print('_'*125)\n",
    "    else:\n",
    "        print('\\n')"
   ]
  },
  {
   "cell_type": "markdown",
   "metadata": {},
   "source": [
    "##### From the barplots it becomes clear that Random Forest shows more accurate results on average. Further, I'll use glmm data as in my draft notebook it shows better results."
   ]
  },
  {
   "cell_type": "code",
   "execution_count": 44,
   "metadata": {},
   "outputs": [],
   "source": [
    "# Blank page"
   ]
  },
  {
   "cell_type": "markdown",
   "metadata": {},
   "source": [
    "## 7.0 Model deployment"
   ]
  },
  {
   "cell_type": "markdown",
   "metadata": {},
   "source": [
    "I'll not show the whole process of tunning hyperparameters with GridSearchCV from sklearn package. But here what I found:<br><br>\n",
    "• With more <i>n_estimators</i> the model predicts more accurate, which is obvious, but that improvement  isn't significant (about 100-300\\$ in the case of absolute error). So I decided to use 1000 estimators for more convenience.<br>\n",
    "• <i>max_depth</i> and <i>min_samples_leaf</i>: As these two parameters are related to each other I changed only one - <i>min_samples_leaf</i>. GridSearchCV showed that the optimal value for this parameter is 1, but common sense tells that it will cause overfitting, so I'll use <i>min_samples_leaf=2</i>.<br>\n",
    "• <i>max_features</i>: I'll use the best result from GridSearchCV - 'sqrt'<br>\n",
    "• Other parameters will be default.\n",
    "<br><br>\n",
    "Thus, final parametrs will be:<br><br>\n",
    "<b>n_estimators</b> = 1000<br>\n",
    "<b>min_samples_leaf</b> = 2<br>\n",
    "<b>max_features</b> = 'sqrt'"
   ]
  },
  {
   "cell_type": "code",
   "execution_count": 45,
   "metadata": {},
   "outputs": [],
   "source": [
    "X_train_new = X_train_glmm[selected_columns_glmm]\n",
    "X_test_new = X_test_glmm[selected_columns_glmm]"
   ]
  },
  {
   "cell_type": "code",
   "execution_count": 46,
   "metadata": {},
   "outputs": [],
   "source": [
    "forest = RandomForestRegressor(n_estimators=1000,\n",
    "                              min_samples_leaf=2,\n",
    "                              max_features='sqrt',\n",
    "                              oob_score=True,\n",
    "                              n_jobs=4,\n",
    "                              random_state=42)"
   ]
  },
  {
   "cell_type": "code",
   "execution_count": 47,
   "metadata": {},
   "outputs": [
    {
     "data": {
      "text/plain": [
       "RandomForestRegressor(bootstrap=True, ccp_alpha=0.0, criterion='mse',\n",
       "                      max_depth=None, max_features='sqrt', max_leaf_nodes=None,\n",
       "                      max_samples=None, min_impurity_decrease=0.0,\n",
       "                      min_impurity_split=None, min_samples_leaf=2,\n",
       "                      min_samples_split=2, min_weight_fraction_leaf=0.0,\n",
       "                      n_estimators=1000, n_jobs=4, oob_score=True,\n",
       "                      random_state=42, verbose=0, warm_start=False)"
      ]
     },
     "execution_count": 47,
     "metadata": {},
     "output_type": "execute_result"
    }
   ],
   "source": [
    "forest.fit(X_train_new, y_train)"
   ]
  },
  {
   "cell_type": "code",
   "execution_count": 48,
   "metadata": {},
   "outputs": [],
   "source": [
    "pred = forest.predict(X_test_new)"
   ]
  },
  {
   "cell_type": "code",
   "execution_count": 49,
   "metadata": {},
   "outputs": [],
   "source": [
    "from sklearn.metrics import r2_score"
   ]
  },
  {
   "cell_type": "code",
   "execution_count": 50,
   "metadata": {},
   "outputs": [],
   "source": [
    "error = mean_absolute_error(y_test, pred)\n",
    "error = np.round(error, 0)\n",
    "\n",
    "r2 = r2_score(y_test, pred)\n",
    "r2 = np.round(r2, 2)\n",
    "\n",
    "oob = forest.oob_score_\n",
    "oob = np.round(oob, 2)"
   ]
  },
  {
   "cell_type": "code",
   "execution_count": 51,
   "metadata": {},
   "outputs": [
    {
     "data": {
      "text/html": [
       "<div>\n",
       "<style scoped>\n",
       "    .dataframe tbody tr th:only-of-type {\n",
       "        vertical-align: middle;\n",
       "    }\n",
       "\n",
       "    .dataframe tbody tr th {\n",
       "        vertical-align: top;\n",
       "    }\n",
       "\n",
       "    .dataframe thead th {\n",
       "        text-align: right;\n",
       "    }\n",
       "</style>\n",
       "<table border=\"1\" class=\"dataframe\">\n",
       "  <thead>\n",
       "    <tr style=\"text-align: right;\">\n",
       "      <th></th>\n",
       "      <th>Random Forest</th>\n",
       "    </tr>\n",
       "  </thead>\n",
       "  <tbody>\n",
       "    <tr>\n",
       "      <th>Mean absolute error</th>\n",
       "      <td>16071.00</td>\n",
       "    </tr>\n",
       "    <tr>\n",
       "      <th>R^2</th>\n",
       "      <td>0.90</td>\n",
       "    </tr>\n",
       "    <tr>\n",
       "      <th>Out-of-bag</th>\n",
       "      <td>0.84</td>\n",
       "    </tr>\n",
       "  </tbody>\n",
       "</table>\n",
       "</div>"
      ],
      "text/plain": [
       "                     Random Forest\n",
       "Mean absolute error       16071.00\n",
       "R^2                           0.90\n",
       "Out-of-bag                    0.84"
      ]
     },
     "execution_count": 51,
     "metadata": {},
     "output_type": "execute_result"
    }
   ],
   "source": [
    "# More detailed metrics\n",
    "pd.DataFrame(index=['Mean absolute error', 'R^2', 'Out-of-bag'], columns=['Random Forest'], data=[error, r2, oob])"
   ]
  },
  {
   "cell_type": "code",
   "execution_count": 52,
   "metadata": {},
   "outputs": [],
   "source": [
    "# Blank page"
   ]
  },
  {
   "cell_type": "markdown",
   "metadata": {},
   "source": [
    "## 8.0 Results visualization"
   ]
  },
  {
   "cell_type": "code",
   "execution_count": 53,
   "metadata": {},
   "outputs": [],
   "source": [
    "x = np.arange(0, 800001, 100000)"
   ]
  },
  {
   "cell_type": "code",
   "execution_count": 54,
   "metadata": {},
   "outputs": [
    {
     "data": {
      "image/png": "[encoded data removed]",
      "text/plain": [
       "<Figure size 720x432 with 1 Axes>"
      ]
     },
     "metadata": {},
     "output_type": "display_data"
    }
   ],
   "source": [
    "plt.figure(figsize=(10,6))\n",
    "\n",
    "sns.lineplot(x=x, y=x, color='orange')\n",
    "sns.scatterplot(y=y_test, x=pred, color='deepskyblue', s=50)\n",
    "\n",
    "plt.xlim(0,800000)\n",
    "plt.ylim(0,800000)\n",
    "plt.title('Relation between true and predicted values\\n', fontsize=16)\n",
    "plt.xlabel('Predicted values', fontsize=14)\n",
    "plt.ylabel('True values', fontsize=14)\n",
    "\n",
    "plt.text(100000, 70000, '  2  ', ha=\"center\", va=\"center\", rotation=0, size=20,\n",
    "    bbox=dict(boxstyle=\"circle,pad=0.3\", lw=2, color='darkslategray', fill=False))\n",
    "plt.text(480000, 620000, '  1  ', ha=\"center\", va=\"center\", rotation=0, size=60,\n",
    "    bbox=dict(boxstyle=\"circle,pad=0.3\", lw=2, color='darkslategray', fill=False))\n",
    "\n",
    "plt.show()"
   ]
  },
  {
   "cell_type": "markdown",
   "metadata": {},
   "source": [
    "#### With this kind of a plot we expect dots to be closer to the yellow line(45 degree), which will indicate that our predictions match with true values. But, as we can see, there are some problem zones(circles). <i>Circle 1</i> includes predictions with high absolute errors(see the table below). In contrast to that, <i>Circle 2</i> includes values with high percentage errors(see the table below). "
   ]
  },
  {
   "cell_type": "code",
   "execution_count": 55,
   "metadata": {},
   "outputs": [],
   "source": [
    "pred_table = pd.DataFrame({'True values': y_test,\n",
    "             'Predicted values': pred}, \n",
    "            index=y_test.index)"
   ]
  },
  {
   "cell_type": "code",
   "execution_count": 56,
   "metadata": {},
   "outputs": [],
   "source": [
    "pred_table['Absolute'] = pred_table['True values'] - pred_table['Predicted values']\n",
    "pred_table['Absolute'] = pred_table['Absolute'].apply('abs')\n",
    "pred_table['Percentage'] = pred_table['Absolute'] / pred_table['True values']"
   ]
  },
  {
   "cell_type": "markdown",
   "metadata": {},
   "source": [
    "All credits for this function goes to [this guy](https://towardsdatascience.com/highlighting-columns-in-pandas-dataframe-bf2ff77d00bc)."
   ]
  },
  {
   "cell_type": "code",
   "execution_count": 57,
   "metadata": {},
   "outputs": [],
   "source": [
    "def highlight_columns(df, rows=20, color='lightgreen', columns_to_highlight=[], columns_to_show=[]):\n",
    "    \"\"\"\n",
    "    Highlights selected columns of dataframe\n",
    "    \"\"\"\n",
    "    highlight = lambda slice_of_df: 'background-color: %s' % color\n",
    "    sample_df = df.head(rows)\n",
    "    if len(columns_to_show) != 0:\n",
    "        sample_df = sample_df[columns_to_show]\n",
    "    highlighted_df = sample_df.style.applymap(highlight, subset=pd.IndexSlice[:, columns_to_highlight])\n",
    "    return highlighted_df"
   ]
  },
  {
   "cell_type": "markdown",
   "metadata": {},
   "source": [
    "#### 10 objects with the highest absolute errors"
   ]
  },
  {
   "cell_type": "code",
   "execution_count": 58,
   "metadata": {},
   "outputs": [
    {
     "data": {
      "text/html": [
       "<style  type=\"text/css\" >\n",
       "    #T_7cb8ea86_fca0_11ea_a4db_bcee7b48b3c1row0_col2 {\n",
       "            background-color:  lightgreen;\n",
       "        }    #T_7cb8ea86_fca0_11ea_a4db_bcee7b48b3c1row1_col2 {\n",
       "            background-color:  lightgreen;\n",
       "        }    #T_7cb8ea86_fca0_11ea_a4db_bcee7b48b3c1row2_col2 {\n",
       "            background-color:  lightgreen;\n",
       "        }    #T_7cb8ea86_fca0_11ea_a4db_bcee7b48b3c1row3_col2 {\n",
       "            background-color:  lightgreen;\n",
       "        }    #T_7cb8ea86_fca0_11ea_a4db_bcee7b48b3c1row4_col2 {\n",
       "            background-color:  lightgreen;\n",
       "        }    #T_7cb8ea86_fca0_11ea_a4db_bcee7b48b3c1row5_col2 {\n",
       "            background-color:  lightgreen;\n",
       "        }    #T_7cb8ea86_fca0_11ea_a4db_bcee7b48b3c1row6_col2 {\n",
       "            background-color:  lightgreen;\n",
       "        }    #T_7cb8ea86_fca0_11ea_a4db_bcee7b48b3c1row7_col2 {\n",
       "            background-color:  lightgreen;\n",
       "        }    #T_7cb8ea86_fca0_11ea_a4db_bcee7b48b3c1row8_col2 {\n",
       "            background-color:  lightgreen;\n",
       "        }    #T_7cb8ea86_fca0_11ea_a4db_bcee7b48b3c1row9_col2 {\n",
       "            background-color:  lightgreen;\n",
       "        }</style><table id=\"T_7cb8ea86_fca0_11ea_a4db_bcee7b48b3c1\" ><thead>    <tr>        <th class=\"blank level0\" ></th>        <th class=\"col_heading level0 col0\" >True values</th>        <th class=\"col_heading level0 col1\" >Predicted values</th>        <th class=\"col_heading level0 col2\" >Absolute</th>        <th class=\"col_heading level0 col3\" >Percentage</th>    </tr>    <tr>        <th class=\"index_name level0\" >Id</th>        <th class=\"blank\" ></th>        <th class=\"blank\" ></th>        <th class=\"blank\" ></th>        <th class=\"blank\" ></th>    </tr></thead><tbody>\n",
       "                <tr>\n",
       "                        <th id=\"T_7cb8ea86_fca0_11ea_a4db_bcee7b48b3c1level0_row0\" class=\"row_heading level0 row0\" >692</th>\n",
       "                        <td id=\"T_7cb8ea86_fca0_11ea_a4db_bcee7b48b3c1row0_col0\" class=\"data row0 col0\" >755000</td>\n",
       "                        <td id=\"T_7cb8ea86_fca0_11ea_a4db_bcee7b48b3c1row0_col1\" class=\"data row0 col1\" >515561.833615</td>\n",
       "                        <td id=\"T_7cb8ea86_fca0_11ea_a4db_bcee7b48b3c1row0_col2\" class=\"data row0 col2\" >239438.166385</td>\n",
       "                        <td id=\"T_7cb8ea86_fca0_11ea_a4db_bcee7b48b3c1row0_col3\" class=\"data row0 col3\" >0.317137</td>\n",
       "            </tr>\n",
       "            <tr>\n",
       "                        <th id=\"T_7cb8ea86_fca0_11ea_a4db_bcee7b48b3c1level0_row1\" class=\"row_heading level0 row1\" >899</th>\n",
       "                        <td id=\"T_7cb8ea86_fca0_11ea_a4db_bcee7b48b3c1row1_col0\" class=\"data row1 col0\" >611657</td>\n",
       "                        <td id=\"T_7cb8ea86_fca0_11ea_a4db_bcee7b48b3c1row1_col1\" class=\"data row1 col1\" >446847.055958</td>\n",
       "                        <td id=\"T_7cb8ea86_fca0_11ea_a4db_bcee7b48b3c1row1_col2\" class=\"data row1 col2\" >164809.944042</td>\n",
       "                        <td id=\"T_7cb8ea86_fca0_11ea_a4db_bcee7b48b3c1row1_col3\" class=\"data row1 col3\" >0.269448</td>\n",
       "            </tr>\n",
       "            <tr>\n",
       "                        <th id=\"T_7cb8ea86_fca0_11ea_a4db_bcee7b48b3c1level0_row2\" class=\"row_heading level0 row2\" >1047</th>\n",
       "                        <td id=\"T_7cb8ea86_fca0_11ea_a4db_bcee7b48b3c1row2_col0\" class=\"data row2 col0\" >556581</td>\n",
       "                        <td id=\"T_7cb8ea86_fca0_11ea_a4db_bcee7b48b3c1row2_col1\" class=\"data row2 col1\" >413208.063136</td>\n",
       "                        <td id=\"T_7cb8ea86_fca0_11ea_a4db_bcee7b48b3c1row2_col2\" class=\"data row2 col2\" >143372.936864</td>\n",
       "                        <td id=\"T_7cb8ea86_fca0_11ea_a4db_bcee7b48b3c1row2_col3\" class=\"data row2 col3\" >0.257596</td>\n",
       "            </tr>\n",
       "            <tr>\n",
       "                        <th id=\"T_7cb8ea86_fca0_11ea_a4db_bcee7b48b3c1level0_row3\" class=\"row_heading level0 row3\" >582</th>\n",
       "                        <td id=\"T_7cb8ea86_fca0_11ea_a4db_bcee7b48b3c1row3_col0\" class=\"data row3 col0\" >253293</td>\n",
       "                        <td id=\"T_7cb8ea86_fca0_11ea_a4db_bcee7b48b3c1row3_col1\" class=\"data row3 col1\" >373632.896799</td>\n",
       "                        <td id=\"T_7cb8ea86_fca0_11ea_a4db_bcee7b48b3c1row3_col2\" class=\"data row3 col2\" >120339.896799</td>\n",
       "                        <td id=\"T_7cb8ea86_fca0_11ea_a4db_bcee7b48b3c1row3_col3\" class=\"data row3 col3\" >0.475102</td>\n",
       "            </tr>\n",
       "            <tr>\n",
       "                        <th id=\"T_7cb8ea86_fca0_11ea_a4db_bcee7b48b3c1level0_row4\" class=\"row_heading level0 row4\" >219</th>\n",
       "                        <td id=\"T_7cb8ea86_fca0_11ea_a4db_bcee7b48b3c1row4_col0\" class=\"data row4 col0\" >311500</td>\n",
       "                        <td id=\"T_7cb8ea86_fca0_11ea_a4db_bcee7b48b3c1row4_col1\" class=\"data row4 col1\" >202957.132800</td>\n",
       "                        <td id=\"T_7cb8ea86_fca0_11ea_a4db_bcee7b48b3c1row4_col2\" class=\"data row4 col2\" >108542.867200</td>\n",
       "                        <td id=\"T_7cb8ea86_fca0_11ea_a4db_bcee7b48b3c1row4_col3\" class=\"data row4 col3\" >0.348452</td>\n",
       "            </tr>\n",
       "            <tr>\n",
       "                        <th id=\"T_7cb8ea86_fca0_11ea_a4db_bcee7b48b3c1level0_row5\" class=\"row_heading level0 row5\" >378</th>\n",
       "                        <td id=\"T_7cb8ea86_fca0_11ea_a4db_bcee7b48b3c1row5_col0\" class=\"data row5 col0\" >340000</td>\n",
       "                        <td id=\"T_7cb8ea86_fca0_11ea_a4db_bcee7b48b3c1row5_col1\" class=\"data row5 col1\" >266070.851533</td>\n",
       "                        <td id=\"T_7cb8ea86_fca0_11ea_a4db_bcee7b48b3c1row5_col2\" class=\"data row5 col2\" >73929.148467</td>\n",
       "                        <td id=\"T_7cb8ea86_fca0_11ea_a4db_bcee7b48b3c1row5_col3\" class=\"data row5 col3\" >0.217439</td>\n",
       "            </tr>\n",
       "            <tr>\n",
       "                        <th id=\"T_7cb8ea86_fca0_11ea_a4db_bcee7b48b3c1level0_row6\" class=\"row_heading level0 row6\" >1244</th>\n",
       "                        <td id=\"T_7cb8ea86_fca0_11ea_a4db_bcee7b48b3c1row6_col0\" class=\"data row6 col0\" >465000</td>\n",
       "                        <td id=\"T_7cb8ea86_fca0_11ea_a4db_bcee7b48b3c1row6_col1\" class=\"data row6 col1\" >393732.449814</td>\n",
       "                        <td id=\"T_7cb8ea86_fca0_11ea_a4db_bcee7b48b3c1row6_col2\" class=\"data row6 col2\" >71267.550186</td>\n",
       "                        <td id=\"T_7cb8ea86_fca0_11ea_a4db_bcee7b48b3c1row6_col3\" class=\"data row6 col3\" >0.153264</td>\n",
       "            </tr>\n",
       "            <tr>\n",
       "                        <th id=\"T_7cb8ea86_fca0_11ea_a4db_bcee7b48b3c1level0_row7\" class=\"row_heading level0 row7\" >232</th>\n",
       "                        <td id=\"T_7cb8ea86_fca0_11ea_a4db_bcee7b48b3c1row7_col0\" class=\"data row7 col0\" >403000</td>\n",
       "                        <td id=\"T_7cb8ea86_fca0_11ea_a4db_bcee7b48b3c1row7_col1\" class=\"data row7 col1\" >335088.958379</td>\n",
       "                        <td id=\"T_7cb8ea86_fca0_11ea_a4db_bcee7b48b3c1row7_col2\" class=\"data row7 col2\" >67911.041621</td>\n",
       "                        <td id=\"T_7cb8ea86_fca0_11ea_a4db_bcee7b48b3c1row7_col3\" class=\"data row7 col3\" >0.168514</td>\n",
       "            </tr>\n",
       "            <tr>\n",
       "                        <th id=\"T_7cb8ea86_fca0_11ea_a4db_bcee7b48b3c1level0_row8\" class=\"row_heading level0 row8\" >662</th>\n",
       "                        <td id=\"T_7cb8ea86_fca0_11ea_a4db_bcee7b48b3c1row8_col0\" class=\"data row8 col0\" >402000</td>\n",
       "                        <td id=\"T_7cb8ea86_fca0_11ea_a4db_bcee7b48b3c1row8_col1\" class=\"data row8 col1\" >334725.705035</td>\n",
       "                        <td id=\"T_7cb8ea86_fca0_11ea_a4db_bcee7b48b3c1row8_col2\" class=\"data row8 col2\" >67274.294965</td>\n",
       "                        <td id=\"T_7cb8ea86_fca0_11ea_a4db_bcee7b48b3c1row8_col3\" class=\"data row8 col3\" >0.167349</td>\n",
       "            </tr>\n",
       "            <tr>\n",
       "                        <th id=\"T_7cb8ea86_fca0_11ea_a4db_bcee7b48b3c1level0_row9\" class=\"row_heading level0 row9\" >59</th>\n",
       "                        <td id=\"T_7cb8ea86_fca0_11ea_a4db_bcee7b48b3c1row9_col0\" class=\"data row9 col0\" >438780</td>\n",
       "                        <td id=\"T_7cb8ea86_fca0_11ea_a4db_bcee7b48b3c1row9_col1\" class=\"data row9 col1\" >373369.487160</td>\n",
       "                        <td id=\"T_7cb8ea86_fca0_11ea_a4db_bcee7b48b3c1row9_col2\" class=\"data row9 col2\" >65410.512840</td>\n",
       "                        <td id=\"T_7cb8ea86_fca0_11ea_a4db_bcee7b48b3c1row9_col3\" class=\"data row9 col3\" >0.149074</td>\n",
       "            </tr>\n",
       "    </tbody></table>"
      ],
      "text/plain": [
       "<pandas.io.formats.style.Styler at 0x1d976988988>"
      ]
     },
     "execution_count": 58,
     "metadata": {},
     "output_type": "execute_result"
    }
   ],
   "source": [
    "abs_error = pred_table.sort_values(by='Absolute', ascending=False)\n",
    "highlight_columns(abs_error[:10], columns_to_highlight=['Absolute'])"
   ]
  },
  {
   "cell_type": "code",
   "execution_count": 59,
   "metadata": {},
   "outputs": [
    {
     "data": {
      "image/png": "[encoded data removed]",
      "text/plain": [
       "<Figure size 576x360 with 1 Axes>"
      ]
     },
     "metadata": {},
     "output_type": "display_data"
    }
   ],
   "source": [
    "plt.figure(figsize=(8,5))\n",
    "\n",
    "sns.distplot(abs_error['True values'], color='deepskyblue')\n",
    "plt.axvline(x=400000, color='orange', linewidth = 2)\n",
    "plt.title('Distribution of True values', fontsize=16)\n",
    "\n",
    "plt.show()"
   ]
  },
  {
   "cell_type": "markdown",
   "metadata": {},
   "source": [
    "##### It can be noticed from the table above, that most objects have True values more than 400000. It indicates, that algorithm mostly makes mistakes with extremely high True values."
   ]
  },
  {
   "cell_type": "code",
   "execution_count": 60,
   "metadata": {},
   "outputs": [],
   "source": [
    "# Blank page"
   ]
  },
  {
   "cell_type": "markdown",
   "metadata": {},
   "source": [
    "#### 10 objects with the highest percentage errors"
   ]
  },
  {
   "cell_type": "code",
   "execution_count": 61,
   "metadata": {},
   "outputs": [
    {
     "data": {
      "text/html": [
       "<style  type=\"text/css\" >\n",
       "    #T_7d169358_fca0_11ea_a78d_bcee7b48b3c1row0_col3 {\n",
       "            background-color:  lightgreen;\n",
       "        }    #T_7d169358_fca0_11ea_a78d_bcee7b48b3c1row1_col3 {\n",
       "            background-color:  lightgreen;\n",
       "        }    #T_7d169358_fca0_11ea_a78d_bcee7b48b3c1row2_col3 {\n",
       "            background-color:  lightgreen;\n",
       "        }    #T_7d169358_fca0_11ea_a78d_bcee7b48b3c1row3_col3 {\n",
       "            background-color:  lightgreen;\n",
       "        }    #T_7d169358_fca0_11ea_a78d_bcee7b48b3c1row4_col3 {\n",
       "            background-color:  lightgreen;\n",
       "        }    #T_7d169358_fca0_11ea_a78d_bcee7b48b3c1row5_col3 {\n",
       "            background-color:  lightgreen;\n",
       "        }    #T_7d169358_fca0_11ea_a78d_bcee7b48b3c1row6_col3 {\n",
       "            background-color:  lightgreen;\n",
       "        }    #T_7d169358_fca0_11ea_a78d_bcee7b48b3c1row7_col3 {\n",
       "            background-color:  lightgreen;\n",
       "        }    #T_7d169358_fca0_11ea_a78d_bcee7b48b3c1row8_col3 {\n",
       "            background-color:  lightgreen;\n",
       "        }    #T_7d169358_fca0_11ea_a78d_bcee7b48b3c1row9_col3 {\n",
       "            background-color:  lightgreen;\n",
       "        }</style><table id=\"T_7d169358_fca0_11ea_a78d_bcee7b48b3c1\" ><thead>    <tr>        <th class=\"blank level0\" ></th>        <th class=\"col_heading level0 col0\" >True values</th>        <th class=\"col_heading level0 col1\" >Predicted values</th>        <th class=\"col_heading level0 col2\" >Absolute</th>        <th class=\"col_heading level0 col3\" >Percentage</th>    </tr>    <tr>        <th class=\"index_name level0\" >Id</th>        <th class=\"blank\" ></th>        <th class=\"blank\" ></th>        <th class=\"blank\" ></th>        <th class=\"blank\" ></th>    </tr></thead><tbody>\n",
       "                <tr>\n",
       "                        <th id=\"T_7d169358_fca0_11ea_a78d_bcee7b48b3c1level0_row0\" class=\"row_heading level0 row0\" >31</th>\n",
       "                        <td id=\"T_7d169358_fca0_11ea_a78d_bcee7b48b3c1row0_col0\" class=\"data row0 col0\" >40000</td>\n",
       "                        <td id=\"T_7d169358_fca0_11ea_a78d_bcee7b48b3c1row0_col1\" class=\"data row0 col1\" >101668.313656</td>\n",
       "                        <td id=\"T_7d169358_fca0_11ea_a78d_bcee7b48b3c1row0_col2\" class=\"data row0 col2\" >61668.313656</td>\n",
       "                        <td id=\"T_7d169358_fca0_11ea_a78d_bcee7b48b3c1row0_col3\" class=\"data row0 col3\" >1.541708</td>\n",
       "            </tr>\n",
       "            <tr>\n",
       "                        <th id=\"T_7d169358_fca0_11ea_a78d_bcee7b48b3c1level0_row1\" class=\"row_heading level0 row1\" >917</th>\n",
       "                        <td id=\"T_7d169358_fca0_11ea_a78d_bcee7b48b3c1row1_col0\" class=\"data row1 col0\" >35311</td>\n",
       "                        <td id=\"T_7d169358_fca0_11ea_a78d_bcee7b48b3c1row1_col1\" class=\"data row1 col1\" >83430.099111</td>\n",
       "                        <td id=\"T_7d169358_fca0_11ea_a78d_bcee7b48b3c1row1_col2\" class=\"data row1 col2\" >48119.099111</td>\n",
       "                        <td id=\"T_7d169358_fca0_11ea_a78d_bcee7b48b3c1row1_col3\" class=\"data row1 col3\" >1.362723</td>\n",
       "            </tr>\n",
       "            <tr>\n",
       "                        <th id=\"T_7d169358_fca0_11ea_a78d_bcee7b48b3c1level0_row2\" class=\"row_heading level0 row2\" >463</th>\n",
       "                        <td id=\"T_7d169358_fca0_11ea_a78d_bcee7b48b3c1row2_col0\" class=\"data row2 col0\" >62383</td>\n",
       "                        <td id=\"T_7d169358_fca0_11ea_a78d_bcee7b48b3c1row2_col1\" class=\"data row2 col1\" >123629.207443</td>\n",
       "                        <td id=\"T_7d169358_fca0_11ea_a78d_bcee7b48b3c1row2_col2\" class=\"data row2 col2\" >61246.207443</td>\n",
       "                        <td id=\"T_7d169358_fca0_11ea_a78d_bcee7b48b3c1row2_col3\" class=\"data row2 col3\" >0.981777</td>\n",
       "            </tr>\n",
       "            <tr>\n",
       "                        <th id=\"T_7d169358_fca0_11ea_a78d_bcee7b48b3c1level0_row3\" class=\"row_heading level0 row3\" >813</th>\n",
       "                        <td id=\"T_7d169358_fca0_11ea_a78d_bcee7b48b3c1row3_col0\" class=\"data row3 col0\" >55993</td>\n",
       "                        <td id=\"T_7d169358_fca0_11ea_a78d_bcee7b48b3c1row3_col1\" class=\"data row3 col1\" >104598.760274</td>\n",
       "                        <td id=\"T_7d169358_fca0_11ea_a78d_bcee7b48b3c1row3_col2\" class=\"data row3 col2\" >48605.760274</td>\n",
       "                        <td id=\"T_7d169358_fca0_11ea_a78d_bcee7b48b3c1row3_col3\" class=\"data row3 col3\" >0.868069</td>\n",
       "            </tr>\n",
       "            <tr>\n",
       "                        <th id=\"T_7d169358_fca0_11ea_a78d_bcee7b48b3c1level0_row4\" class=\"row_heading level0 row4\" >1280</th>\n",
       "                        <td id=\"T_7d169358_fca0_11ea_a78d_bcee7b48b3c1row4_col0\" class=\"data row4 col0\" >68400</td>\n",
       "                        <td id=\"T_7d169358_fca0_11ea_a78d_bcee7b48b3c1row4_col1\" class=\"data row4 col1\" >114487.651062</td>\n",
       "                        <td id=\"T_7d169358_fca0_11ea_a78d_bcee7b48b3c1row4_col2\" class=\"data row4 col2\" >46087.651062</td>\n",
       "                        <td id=\"T_7d169358_fca0_11ea_a78d_bcee7b48b3c1row4_col3\" class=\"data row4 col3\" >0.673796</td>\n",
       "            </tr>\n",
       "            <tr>\n",
       "                        <th id=\"T_7d169358_fca0_11ea_a78d_bcee7b48b3c1level0_row5\" class=\"row_heading level0 row5\" >1433</th>\n",
       "                        <td id=\"T_7d169358_fca0_11ea_a78d_bcee7b48b3c1row5_col0\" class=\"data row5 col0\" >64500</td>\n",
       "                        <td id=\"T_7d169358_fca0_11ea_a78d_bcee7b48b3c1row5_col1\" class=\"data row5 col1\" >106795.323990</td>\n",
       "                        <td id=\"T_7d169358_fca0_11ea_a78d_bcee7b48b3c1row5_col2\" class=\"data row5 col2\" >42295.323990</td>\n",
       "                        <td id=\"T_7d169358_fca0_11ea_a78d_bcee7b48b3c1row5_col3\" class=\"data row5 col3\" >0.655741</td>\n",
       "            </tr>\n",
       "            <tr>\n",
       "                        <th id=\"T_7d169358_fca0_11ea_a78d_bcee7b48b3c1level0_row6\" class=\"row_heading level0 row6\" >399</th>\n",
       "                        <td id=\"T_7d169358_fca0_11ea_a78d_bcee7b48b3c1row6_col0\" class=\"data row6 col0\" >67000</td>\n",
       "                        <td id=\"T_7d169358_fca0_11ea_a78d_bcee7b48b3c1row6_col1\" class=\"data row6 col1\" >108833.949573</td>\n",
       "                        <td id=\"T_7d169358_fca0_11ea_a78d_bcee7b48b3c1row6_col2\" class=\"data row6 col2\" >41833.949573</td>\n",
       "                        <td id=\"T_7d169358_fca0_11ea_a78d_bcee7b48b3c1row6_col3\" class=\"data row6 col3\" >0.624387</td>\n",
       "            </tr>\n",
       "            <tr>\n",
       "                        <th id=\"T_7d169358_fca0_11ea_a78d_bcee7b48b3c1level0_row7\" class=\"row_heading level0 row7\" >875</th>\n",
       "                        <td id=\"T_7d169358_fca0_11ea_a78d_bcee7b48b3c1row7_col0\" class=\"data row7 col0\" >66500</td>\n",
       "                        <td id=\"T_7d169358_fca0_11ea_a78d_bcee7b48b3c1row7_col1\" class=\"data row7 col1\" >106732.001707</td>\n",
       "                        <td id=\"T_7d169358_fca0_11ea_a78d_bcee7b48b3c1row7_col2\" class=\"data row7 col2\" >40232.001707</td>\n",
       "                        <td id=\"T_7d169358_fca0_11ea_a78d_bcee7b48b3c1row7_col3\" class=\"data row7 col3\" >0.604993</td>\n",
       "            </tr>\n",
       "            <tr>\n",
       "                        <th id=\"T_7d169358_fca0_11ea_a78d_bcee7b48b3c1level0_row8\" class=\"row_heading level0 row8\" >1062</th>\n",
       "                        <td id=\"T_7d169358_fca0_11ea_a78d_bcee7b48b3c1row8_col0\" class=\"data row8 col0\" >81000</td>\n",
       "                        <td id=\"T_7d169358_fca0_11ea_a78d_bcee7b48b3c1row8_col1\" class=\"data row8 col1\" >124305.297537</td>\n",
       "                        <td id=\"T_7d169358_fca0_11ea_a78d_bcee7b48b3c1row8_col2\" class=\"data row8 col2\" >43305.297537</td>\n",
       "                        <td id=\"T_7d169358_fca0_11ea_a78d_bcee7b48b3c1row8_col3\" class=\"data row8 col3\" >0.534633</td>\n",
       "            </tr>\n",
       "            <tr>\n",
       "                        <th id=\"T_7d169358_fca0_11ea_a78d_bcee7b48b3c1level0_row9\" class=\"row_heading level0 row9\" >582</th>\n",
       "                        <td id=\"T_7d169358_fca0_11ea_a78d_bcee7b48b3c1row9_col0\" class=\"data row9 col0\" >253293</td>\n",
       "                        <td id=\"T_7d169358_fca0_11ea_a78d_bcee7b48b3c1row9_col1\" class=\"data row9 col1\" >373632.896799</td>\n",
       "                        <td id=\"T_7d169358_fca0_11ea_a78d_bcee7b48b3c1row9_col2\" class=\"data row9 col2\" >120339.896799</td>\n",
       "                        <td id=\"T_7d169358_fca0_11ea_a78d_bcee7b48b3c1row9_col3\" class=\"data row9 col3\" >0.475102</td>\n",
       "            </tr>\n",
       "    </tbody></table>"
      ],
      "text/plain": [
       "<pandas.io.formats.style.Styler at 0x1d979eba308>"
      ]
     },
     "execution_count": 61,
     "metadata": {},
     "output_type": "execute_result"
    }
   ],
   "source": [
    "prc_error = pred_table.sort_values(by='Percentage', ascending=False)\n",
    "highlight_columns(prc_error[:10], columns_to_highlight=['Percentage'])"
   ]
  },
  {
   "cell_type": "code",
   "execution_count": 62,
   "metadata": {},
   "outputs": [
    {
     "data": {
      "image/png": "[encoded data removed]",
      "text/plain": [
       "<Figure size 576x360 with 1 Axes>"
      ]
     },
     "metadata": {},
     "output_type": "display_data"
    }
   ],
   "source": [
    "plt.figure(figsize=(8,5))\n",
    "\n",
    "sns.distplot(abs_error['True values'], color='deepskyblue')\n",
    "plt.axvline(x=70000, color='orange', linewidth = 2)\n",
    "plt.title('Distribution of True values', fontsize=16)\n",
    "\n",
    "plt.show()"
   ]
  },
  {
   "cell_type": "markdown",
   "metadata": {},
   "source": [
    "##### Conversely, here we can see, that objects with high percentage errors are those, which have relatively low prices."
   ]
  },
  {
   "cell_type": "code",
   "execution_count": 63,
   "metadata": {},
   "outputs": [],
   "source": [
    "# Blank page"
   ]
  },
  {
   "cell_type": "markdown",
   "metadata": {},
   "source": [
    "## Summary"
   ]
  },
  {
   "cell_type": "markdown",
   "metadata": {},
   "source": [
    "Apparently, the reason why Random Forest couldn't explain target variance well is its proclivity to overfeeting. If I look at these problem objects, and explore their features more deeply, maybe I'll find the actual reason of their extreme prices and I will be able to fix model to detect those extreme reasons."
   ]
  },
  {
   "cell_type": "markdown",
   "metadata": {},
   "source": [
    "But it is a topic for another talk.<br>\n",
    "<i>Thank you for your time.</i>"
   ]
  }
 ],
 "metadata": {
  "kernelspec": {
   "display_name": "Python 3",
   "language": "python",
   "name": "python3"
  },
  "language_info": {
   "codemirror_mode": {
    "name": "ipython",
    "version": 3
   },
   "file_extension": ".py",
   "mimetype": "text/x-python",
   "name": "python",
   "nbconvert_exporter": "python",
   "pygments_lexer": "ipython3",
   "version": "3.7.6"
  }
 },
 "nbformat": 4,
 "nbformat_minor": 4
}
